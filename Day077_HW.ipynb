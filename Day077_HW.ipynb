{
 "cells": [
  {
   "cell_type": "markdown",
   "metadata": {},
   "source": [
    "## Work\n",
    "1. 請將 Epoch 加到 500 個，並觀察 learning curve 的走勢\n",
    "2. 請將 Optimizer 換成 SGD，並觀察 learning curve 的走勢"
   ]
  },
  {
   "cell_type": "code",
   "execution_count": 3,
   "metadata": {},
   "outputs": [],
   "source": [
    "import os\n",
    "from keras.datasets import cifar10\n",
    "from keras.models import Sequential, Model\n",
    "from keras.layers import Conv2D, MaxPool2D, Dense, Flatten, Input\n",
    "from keras.utils import to_categorical\n",
    "\n",
    "# Disable GPU\n",
    "os.environ[\"CUDA_VISIBLE_DEVICES\"] = \"\""
   ]
  },
  {
   "cell_type": "code",
   "execution_count": 4,
   "metadata": {},
   "outputs": [],
   "source": [
    "train, test = cifar10.load_data()"
   ]
  },
  {
   "cell_type": "code",
   "execution_count": 5,
   "metadata": {},
   "outputs": [],
   "source": [
    "x_train, y_train = train\n",
    "img_shape = x_train.shape[1:]\n",
    "x_test, y_test = test\n",
    "x_train = x_train / 255.\n",
    "x_test = x_test / 255.\n",
    "\n",
    "# # Flatten the images\n",
    "# x_train = x_train.reshape((len(x_train), -1))\n",
    "# x_test = x_test.reshape((len(x_test), -1))\n",
    "\n",
    "# Convert y to onehot\n",
    "y_train = to_categorical(y_train, num_classes=10)\n",
    "y_test = to_categorical(y_test, num_classes=10)"
   ]
  },
  {
   "cell_type": "code",
   "execution_count": 10,
   "metadata": {},
   "outputs": [
    {
     "name": "stdout",
     "output_type": "stream",
     "text": [
      "_________________________________________________________________\n",
      "Layer (type)                 Output Shape              Param #   \n",
      "=================================================================\n",
      "input_2 (InputLayer)         (None, 32, 32, 3)         0         \n",
      "_________________________________________________________________\n",
      "conv2d_9 (Conv2D)            (None, 32, 32, 32)        896       \n",
      "_________________________________________________________________\n",
      "max_pooling2d_9 (MaxPooling2 (None, 16, 16, 32)        0         \n",
      "_________________________________________________________________\n",
      "conv2d_10 (Conv2D)           (None, 16, 16, 32)        9248      \n",
      "_________________________________________________________________\n",
      "max_pooling2d_10 (MaxPooling (None, 8, 8, 32)          0         \n",
      "_________________________________________________________________\n",
      "flatten_5 (Flatten)          (None, 2048)              0         \n",
      "_________________________________________________________________\n",
      "dense_13 (Dense)             (None, 512)               1049088   \n",
      "_________________________________________________________________\n",
      "dense_14 (Dense)             (None, 512)               262656    \n",
      "_________________________________________________________________\n",
      "dense_15 (Dense)             (None, 10)                5130      \n",
      "=================================================================\n",
      "Total params: 1,327,018\n",
      "Trainable params: 1,327,018\n",
      "Non-trainable params: 0\n",
      "_________________________________________________________________\n",
      "None\n"
     ]
    }
   ],
   "source": [
    "def build_mlp():\n",
    "    \"\"\"\n",
    "    Try to build your own model\n",
    "    \"\"\"\n",
    "    model = Sequential()\n",
    "    model.add(Conv2D(filters=32, kernel_size=(3, 3), input_shape=img_shape, padding='same'))\n",
    "    model.add(MaxPool2D())\n",
    "    model.add(Conv2D(filters=60, kernel_size=(3, 3), padding='same'))\n",
    "    model.add(MaxPool2D())\n",
    "    model.add(Flatten())\n",
    "    model.add(Dense(512, activation='relu'))\n",
    "    model.add(Dense(512, activation='relu'))\n",
    "    model.add(Dense(10, activation='softmax'))\n",
    "    return model\n",
    "\n",
    "def build_cnn():\n",
    "    input_layer = Input(shape=img_shape)\n",
    "    nn_layer = Conv2D(filters=32, kernel_size=(3, 3), padding='same')(input_layer)\n",
    "    nn_layer = MaxPool2D()(nn_layer)\n",
    "    nn_layer = Conv2D(filters=32, kernel_size=(3, 3), padding='same')(nn_layer)\n",
    "    nn_layer = MaxPool2D()(nn_layer)\n",
    "    nn_layer = Flatten()(nn_layer)\n",
    "    nn_layer = Dense(512, activation='relu')(nn_layer)\n",
    "    nn_layer = Dense(512, activation='relu')(nn_layer)\n",
    "    output = Dense(10, activation='softmax')(nn_layer)\n",
    "    \n",
    "    model = Model(inputs=[input_layer], outputs=[output])\n",
    "    \n",
    "    return model\n",
    "    \n",
    "#model = build_mlp()\n",
    "#print(model.summary())\n",
    "\n",
    "model = build_cnn()\n",
    "print(cnn.summary())"
   ]
  },
  {
   "cell_type": "code",
   "execution_count": 11,
   "metadata": {},
   "outputs": [],
   "source": [
    "\"\"\"\n",
    "Compile your model\n",
    "\"\"\"\n",
    "model.compile(optimizer='adam', loss='categorical_crossentropy', metrics=['accuracy'])"
   ]
  },
  {
   "cell_type": "code",
   "execution_count": 12,
   "metadata": {
    "scrolled": true
   },
   "outputs": [
    {
     "name": "stdout",
     "output_type": "stream",
     "text": [
      "Train on 50000 samples, validate on 10000 samples\n",
      "Epoch 1/10\n",
      "50000/50000 [==============================] - 33s 650us/step - loss: 1.5005 - acc: 0.4631 - val_loss: 1.3356 - val_acc: 0.5215\n",
      "Epoch 2/10\n",
      "50000/50000 [==============================] - 32s 646us/step - loss: 1.0923 - acc: 0.6132 - val_loss: 1.0958 - val_acc: 0.6114\n",
      "Epoch 3/10\n",
      "50000/50000 [==============================] - 32s 648us/step - loss: 0.8845 - acc: 0.6896 - val_loss: 0.9798 - val_acc: 0.6521\n",
      "Epoch 4/10\n",
      "50000/50000 [==============================] - 33s 653us/step - loss: 0.7426 - acc: 0.7397 - val_loss: 0.9494 - val_acc: 0.6683\n",
      "Epoch 5/10\n",
      "50000/50000 [==============================] - 32s 646us/step - loss: 0.6013 - acc: 0.7912 - val_loss: 0.9131 - val_acc: 0.6921\n",
      "Epoch 6/10\n",
      "50000/50000 [==============================] - 34s 678us/step - loss: 0.4642 - acc: 0.8383 - val_loss: 0.9778 - val_acc: 0.6859\n",
      "Epoch 7/10\n",
      "50000/50000 [==============================] - 33s 657us/step - loss: 0.3376 - acc: 0.8849 - val_loss: 1.0803 - val_acc: 0.6870\n",
      "Epoch 8/10\n",
      "50000/50000 [==============================] - 33s 658us/step - loss: 0.2353 - acc: 0.9209 - val_loss: 1.1711 - val_acc: 0.6926\n",
      "Epoch 9/10\n",
      "50000/50000 [==============================] - 33s 658us/step - loss: 0.1583 - acc: 0.9472 - val_loss: 1.3709 - val_acc: 0.6822\n",
      "Epoch 10/10\n",
      "50000/50000 [==============================] - 33s 657us/step - loss: 0.1141 - acc: 0.9627 - val_loss: 1.4941 - val_acc: 0.6904\n"
     ]
    },
    {
     "data": {
      "text/plain": [
       "<keras.callbacks.History at 0x1920af320>"
      ]
     },
     "execution_count": 12,
     "metadata": {},
     "output_type": "execute_result"
    }
   ],
   "source": [
    "\"\"\"\n",
    "Set epochs\n",
    "\"\"\"\n",
    "model.fit(x_train, y_train, \n",
    "          epochs=10, \n",
    "          batch_size=256, \n",
    "          validation_data=(x_test, y_test), \n",
    "          shuffle=True)"
   ]
  },
  {
   "cell_type": "code",
   "execution_count": 15,
   "metadata": {},
   "outputs": [
    {
     "data": {
      "image/png": "[encoded data removed]",
      "text/plain": [
       "<Figure size 432x288 with 1 Axes>"
      ]
     },
     "metadata": {
      "needs_background": "light"
     },
     "output_type": "display_data"
    },
    {
     "data": {
      "image/png": "[encoded data removed]",
      "text/plain": [
       "<Figure size 432x288 with 1 Axes>"
      ]
     },
     "metadata": {
      "needs_background": "light"
     },
     "output_type": "display_data"
    }
   ],
   "source": [
    "import matplotlib.pyplot as plt\n",
    "%matplotlib inline\n",
    "\"\"\"\n",
    "Get the training loss / validation loss / training accuracy / validation accuracy and plot them\n",
    "\"\"\"\n",
    "\n",
    "train_loss = model.history.history[\"loss\"]\n",
    "valid_loss = model.history.history[\"val_loss\"]\n",
    "\n",
    "train_acc = model.history.history[\"acc\"]\n",
    "valid_acc = model.history.history[\"val_acc\"]\n",
    "\n",
    "plt.plot(range(len(train_loss)), train_loss, label=\"train loss\")\n",
    "plt.plot(range(len(valid_loss)), valid_loss, label=\"valid loss\")\n",
    "plt.legend()\n",
    "plt.title(\"Loss\")\n",
    "plt.show()\n",
    "\n",
    "plt.plot(range(len(train_acc)), train_acc, label=\"train accuracy\")\n",
    "plt.plot(range(len(valid_acc)), valid_acc, label=\"valid accuracy\")\n",
    "plt.legend()\n",
    "plt.title(\"Accuracy\")\n",
    "plt.show()"
   ]
  }
 ],
 "metadata": {
  "kernelspec": {
   "display_name": "Python 3",
   "language": "python",
   "name": "python3"
  },
  "language_info": {
   "codemirror_mode": {
    "name": "ipython",
    "version": 3
   },
   "file_extension": ".py",
   "mimetype": "text/x-python",
   "name": "python",
   "nbconvert_exporter": "python",
   "pygments_lexer": "ipython3",
   "version": "3.6.8"
  }
 },
 "nbformat": 4,
 "nbformat_minor": 2
}
