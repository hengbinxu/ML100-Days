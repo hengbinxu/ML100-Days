{
 "cells": [
  {
   "cell_type": "markdown",
   "metadata": {},
   "source": [
    "## 練習時間\n",
    "假設我們資料中類別的數量並不均衡，在評估準確率時可能會有所偏頗，試著切分出 y_test 中，0 類別與 1 類別的數量是一樣的 (亦即 y_test 的類別是均衡的)"
   ]
  },
  {
   "cell_type": "code",
   "execution_count": 1,
   "metadata": {},
   "outputs": [],
   "source": [
    "import numpy as np\n",
    "X = np.arange(1000).reshape(200, 5)\n",
    "y = np.zeros(200)\n",
    "y[:40] = 1"
   ]
  },
  {
   "cell_type": "code",
   "execution_count": 2,
   "metadata": {},
   "outputs": [
    {
     "data": {
      "text/plain": [
       "array([1., 1., 1., 1., 1., 1., 1., 1., 1., 1., 1., 1., 1., 1., 1., 1., 1.,\n",
       "       1., 1., 1., 1., 1., 1., 1., 1., 1., 1., 1., 1., 1., 1., 1., 1., 1.,\n",
       "       1., 1., 1., 1., 1., 1., 0., 0., 0., 0., 0., 0., 0., 0., 0., 0., 0.,\n",
       "       0., 0., 0., 0., 0., 0., 0., 0., 0., 0., 0., 0., 0., 0., 0., 0., 0.,\n",
       "       0., 0., 0., 0., 0., 0., 0., 0., 0., 0., 0., 0., 0., 0., 0., 0., 0.,\n",
       "       0., 0., 0., 0., 0., 0., 0., 0., 0., 0., 0., 0., 0., 0., 0., 0., 0.,\n",
       "       0., 0., 0., 0., 0., 0., 0., 0., 0., 0., 0., 0., 0., 0., 0., 0., 0.,\n",
       "       0., 0., 0., 0., 0., 0., 0., 0., 0., 0., 0., 0., 0., 0., 0., 0., 0.,\n",
       "       0., 0., 0., 0., 0., 0., 0., 0., 0., 0., 0., 0., 0., 0., 0., 0., 0.,\n",
       "       0., 0., 0., 0., 0., 0., 0., 0., 0., 0., 0., 0., 0., 0., 0., 0., 0.,\n",
       "       0., 0., 0., 0., 0., 0., 0., 0., 0., 0., 0., 0., 0., 0., 0., 0., 0.,\n",
       "       0., 0., 0., 0., 0., 0., 0., 0., 0., 0., 0., 0., 0.])"
      ]
     },
     "execution_count": 2,
     "metadata": {},
     "output_type": "execute_result"
    }
   ],
   "source": [
    "y"
   ]
  },
  {
   "cell_type": "markdown",
   "metadata": {},
   "source": [
    "可以看見 y 類別中，有 160 個 類別 0，40 個 類別 1 ，請試著使用 train_test_split 函數，切分出 y_test 中能各有 10 筆類別 0 與 10 筆類別 1 。(HINT: 參考函數中的 test_size，可針對不同類別各自作切分後再合併)"
   ]
  },
  {
   "cell_type": "code",
   "execution_count": 3,
   "metadata": {},
   "outputs": [],
   "source": [
    "def split_test_to_balance(X, y, test_size, random_state=123):\n",
    "    '''\n",
    "    Split data to training set and testing set. (only useful for binary classification.) \n",
    "    If target label is unbalance, the target label of testing set will be balance.\n",
    "    parameter: \n",
    "        test_size: int, number of samples\n",
    "                    float, proportion of sample size\n",
    "    '''  \n",
    "    np.random.seed(random_state)\n",
    "    unique_y, y_count = np.unique(y.astype(np.int), return_counts=True)\n",
    "    dat = np.hstack((X, y.reshape(-1, 1)))\n",
    "    \n",
    "    if type(test_size) is float:  \n",
    "        label_size = np.ceil(dat.shape[0] * test_size / len(unique_y)) # the lowest label size\n",
    "        \n",
    "    elif type(test_size) is int:\n",
    "        label_size = np.ceil(test_size / len(unique_y))\n",
    "    \n",
    "    else:\n",
    "        raise TypeError(\"'test_size' input type error.\")\n",
    "                    \n",
    "    if label_size <= y_count.min():\n",
    "          \n",
    "        dat_index = np.arange(dat.shape[0])\n",
    "        zero_count, one_count = 0, 0\n",
    "        total_count = zero_count + one_count\n",
    "\n",
    "        test_index = list()\n",
    "        while total_count < (label_size * len(unique_y)):\n",
    "            row_num = np.random.choice(dat_index, size=1, replace=False)\n",
    "            if dat[row_num[0], -1] == 0:\n",
    "                if zero_count < label_size:\n",
    "                    zero_count += 1\n",
    "                    test_index.append(row_num[0])\n",
    "            else:\n",
    "                if one_count < label_size:\n",
    "                    one_count += 1\n",
    "                    test_index.append(row_num[0])\n",
    "                    \n",
    "            row_num_ind = np.where(dat_index == row_num) # get `row_num` index number in dat_index\n",
    "            dat_index = np.delete(dat_index, row_num_ind)\n",
    "            total_count = zero_count + one_count\n",
    "\n",
    "        train_ind = np.setdiff1d(np.arange(dat.shape[0]), np.array(test_index))\n",
    "        X_train, X_test, y_train, y_test = X[train_ind, :], X[test_index, :], y[train_ind], y[test_index]\n",
    "        \n",
    "        return X_train, X_test, y_train, y_test\n",
    "    else:\n",
    "        raise ValueError('test_size is larger than one of y label size.')"
   ]
  },
  {
   "cell_type": "code",
   "execution_count": 4,
   "metadata": {},
   "outputs": [],
   "source": [
    "X_train, X_test, y_train, y_test = split_test_to_balance(X, y, test_size=0.3)"
   ]
  },
  {
   "cell_type": "code",
   "execution_count": 5,
   "metadata": {},
   "outputs": [
    {
     "name": "stdout",
     "output_type": "stream",
     "text": [
      "X_train shape: (140, 5)\n",
      "X_test shape: (60, 5)\n",
      "y_train shape: (140,)\n",
      "y_test shape: (60,)\n",
      "y label: [0. 1.], y label count: [30 30]\n"
     ]
    }
   ],
   "source": [
    "print('X_train shape: {}'.format(X_train.shape))\n",
    "print('X_test shape: {}'.format(X_test.shape))\n",
    "print('y_train shape: {}'.format(y_train.shape))\n",
    "print('y_test shape: {}'.format(y_test.shape))\n",
    "\n",
    "uni_test_y, test_y_count = np.unique(y_test, return_counts=True)\n",
    "print('y label: {}, y label count: {}'.format(uni_test_y, test_y_count))"
   ]
  },
  {
   "cell_type": "code",
   "execution_count": null,
   "metadata": {},
   "outputs": [],
   "source": []
  }
 ],
 "metadata": {
  "kernelspec": {
   "display_name": "Python 3",
   "language": "python",
   "name": "python3"
  },
  "language_info": {
   "codemirror_mode": {
    "name": "ipython",
    "version": 3
   },
   "file_extension": ".py",
   "mimetype": "text/x-python",
   "name": "python",
   "nbconvert_exporter": "python",
   "pygments_lexer": "ipython3",
   "version": "3.6.6"
  }
 },
 "nbformat": 4,
 "nbformat_minor": 2
}
