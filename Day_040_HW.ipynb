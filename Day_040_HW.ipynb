{
 "cells": [
  {
   "cell_type": "markdown",
   "metadata": {},
   "source": [
    "## 練習時間\n",
    "試著使用 sklearn datasets 的其他資料集 (boston, ...)，來訓練自己的線性迴歸模型，並加上適當的正則話來觀察訓練情形。"
   ]
  },
  {
   "cell_type": "code",
   "execution_count": 1,
   "metadata": {},
   "outputs": [],
   "source": [
    "import numpy as np\n",
    "import pandas as pd\n",
    "\n",
    "from sklearn.preprocessing import StandardScaler\n",
    "from sklearn.datasets import load_boston, load_wine\n",
    "from sklearn.linear_model import Lasso, RidgeClassifier\n",
    "from sklearn.model_selection import cross_val_score, train_test_split\n",
    "from sklearn.model_selection import GridSearchCV\n",
    "from sklearn.metrics import accuracy_score, r2_score, mean_squared_error"
   ]
  },
  {
   "cell_type": "markdown",
   "metadata": {},
   "source": [
    "### Wine Dataset"
   ]
  },
  {
   "cell_type": "code",
   "execution_count": 2,
   "metadata": {},
   "outputs": [
    {
     "name": "stdout",
     "output_type": "stream",
     "text": [
      "The best paramenter: {'alpha': 0.3214285714285714, 'tol': 0.0}\n",
      "--------------------------------------------------\n",
      "Coefficient:[[ 3.06365608e-01 -3.14056119e-03  4.34690487e-01 -6.19398029e-02\n",
      "  -2.05712866e-03 -2.28862182e-01  2.22295654e-01 -3.04608878e-01\n",
      "  -5.56637465e-02 -3.75346768e-02 -3.00835585e-01  2.67975401e-01\n",
      "   1.45201336e-03]\n",
      " [-3.49122487e-01 -1.16297848e-01 -6.31927747e-01  4.26816960e-02\n",
      "   2.10989978e-03  1.72617446e-01  1.22248706e-01  6.55646353e-01\n",
      "   9.62999248e-02 -1.07995008e-01  7.03353860e-01 -2.65306902e-02\n",
      "  -1.24503318e-03]\n",
      " [ 4.27568791e-02  1.19438409e-01  1.97237260e-01  1.92581069e-02\n",
      "  -5.27711197e-05  5.62447361e-02 -3.44544360e-01 -3.51037475e-01\n",
      "  -4.06361783e-02  1.45529684e-01 -4.02518276e-01 -2.41444711e-01\n",
      "  -2.06980177e-04]]\n",
      "--------------------------------------------------\n",
      "Accuracy: 0.981\n"
     ]
    }
   ],
   "source": [
    "wine = load_wine()\n",
    "\n",
    "X, y = wine.data, wine.target\n",
    "\n",
    "std_scaler = StandardScaler()\n",
    "trans_x = std_scaler.fit_transform(X)\n",
    "\n",
    "x_train, x_test, y_train, y_test = train_test_split(X, y, test_size=.3)\n",
    "\n",
    "RidgeCls = RidgeClassifier()\n",
    "\n",
    "alpha_range = np.linspace(0, 1.5, 15)\n",
    "tol_range = np.linspace(0, 0.001, 5)\n",
    "grid_para = {'alpha': alpha_range, 'tol': tol_range}\n",
    "\n",
    "clf = GridSearchCV(estimator=RidgeCls, param_grid=grid_para, cv=5)\n",
    "clf.fit(x_train, y_train)\n",
    "\n",
    "best_par = clf.best_params_\n",
    "print('The best paramenter: {}'.format(best_par))\n",
    "print('-'*50)\n",
    "\n",
    "coefficient = clf.best_estimator_.coef_\n",
    "print('Coefficient:{}'.format(coefficient))\n",
    "print('-'*50)\n",
    "\n",
    "y_pred = clf.predict(x_test)\n",
    "acc = accuracy_score(y_test, y_pred)\n",
    "print('Accuracy: {:.3f}'.format(acc))"
   ]
  },
  {
   "cell_type": "markdown",
   "metadata": {},
   "source": [
    "### Boston Dataset"
   ]
  },
  {
   "cell_type": "code",
   "execution_count": 3,
   "metadata": {},
   "outputs": [
    {
     "name": "stdout",
     "output_type": "stream",
     "text": [
      "The best paramenter: {'alpha': 0.021842105263157895, 'tol': 0.030000000000000006}\n",
      "--------------------------------------------------\n",
      "Coefficient:[-0.65761948  1.11377378  0.47376679 -2.02745416  2.66307321 -0.23415512\n",
      " -2.70444143 -2.46661237 -2.20049258  0.94127134 -3.20681326  2.08610663\n",
      "  0.32313856]\n",
      "--------------------------------------------------\n",
      "R sqruare: 0.724\n",
      "MSE: 27.290\n"
     ]
    },
    {
     "name": "stderr",
     "output_type": "stream",
     "text": [
      "/anaconda3/envs/python3.6/lib/python3.6/site-packages/sklearn/model_selection/_search.py:841: DeprecationWarning: The default of the `iid` parameter will change from True to False in version 0.22 and will be removed in 0.24. This will change numeric results when test-set sizes are unequal.\n",
      "  DeprecationWarning)\n"
     ]
    }
   ],
   "source": [
    "boston = load_boston()\n",
    "\n",
    "X, y = boston.data, boston.target\n",
    "\n",
    "categorical_feature = ['CHAS', 'RAD']\n",
    "\n",
    "boston_df = pd.DataFrame(data=X, columns=boston.feature_names)\n",
    "numerical_dat = boston_df.loc[:, ~boston_df.columns.isin(categorical_feature)].values\n",
    "categorical_dat = boston_df[categorical_feature].values\n",
    "\n",
    "std_scaler = StandardScaler()\n",
    "std_x = std_scaler.fit_transform(numerical_dat)\n",
    "\n",
    "trans_x = np.hstack((std_x, categorical_dat))\n",
    "x_train, x_test, y_train, y_test = train_test_split(trans_x, y)\n",
    "\n",
    "alpha_range = np.linspace(0.001, 0.1, 20)\n",
    "tol_range = np.linspace(0.01, 0.1, 10)\n",
    "grid_param = {'alpha': alpha_range, 'tol': tol_range}\n",
    "\n",
    "lasso_reg = Lasso()\n",
    "cv_lasso = GridSearchCV(estimator=lasso_reg, param_grid=grid_param, cv=5)\n",
    "cv_lasso.fit(x_train, y_train)\n",
    "\n",
    "best_par = cv_lasso.best_params_\n",
    "print('The best paramenter: {}'.format(best_par))\n",
    "print('-'*50)\n",
    "\n",
    "coefficient = cv_lasso.best_estimator_.coef_\n",
    "print('Coefficient:{}'.format(coefficient))\n",
    "print('-'*50)\n",
    "\n",
    "y_pred = cv_lasso.predict(x_test)\n",
    "r_square = r2_score(y_test, y_pred)\n",
    "mse = mean_squared_error(y_test, y_pred)\n",
    "print('R sqruare: {:.3f}'.format(r_square))\n",
    "print('MSE: {:.3f}'.format(mse))"
   ]
  }
 ],
 "metadata": {
  "kernelspec": {
   "display_name": "Python 3",
   "language": "python",
   "name": "python3"
  },
  "language_info": {
   "codemirror_mode": {
    "name": "ipython",
    "version": 3
   },
   "file_extension": ".py",
   "mimetype": "text/x-python",
   "name": "python",
   "nbconvert_exporter": "python",
   "pygments_lexer": "ipython3",
   "version": "3.6.6"
  }
 },
 "nbformat": 4,
 "nbformat_minor": 2
}
