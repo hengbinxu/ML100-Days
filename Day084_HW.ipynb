{
 "cells": [
  {
   "cell_type": "markdown",
   "metadata": {},
   "source": [
    "## Work\n",
    "請結合前面的知識與程式碼，比較不同的 regularization 的組合對訓練的結果與影響：如 dropout, regularizers, batch-normalization 等"
   ]
  },
  {
   "cell_type": "code",
   "execution_count": 19,
   "metadata": {
    "collapsed": true
   },
   "outputs": [],
   "source": [
    "import os\n",
    "import keras\n",
    "from keras.datasets import cifar10\n",
    "from keras.models import Model\n",
    "from keras.layers import Input, Conv2D, MaxPool2D, Dense, Flatten\n",
    "from keras.layers import Dropout, BatchNormalization, Activation\n",
    "from keras.utils import to_categorical\n",
    "from keras.regularizers import l1, l2\n",
    "\n",
    "import itertools\n",
    "# Disable GPU\n",
    "#os.environ[\"CUDA_VISIBLE_DEVICES\"] = \"\""
   ]
  },
  {
   "cell_type": "code",
   "execution_count": 3,
   "metadata": {
    "collapsed": true
   },
   "outputs": [],
   "source": [
    "train, test = cifar10.load_data()"
   ]
  },
  {
   "cell_type": "code",
   "execution_count": 4,
   "metadata": {
    "collapsed": true
   },
   "outputs": [],
   "source": [
    "## 資料前處理\n",
    "def preproc_x(x, flatten=True):\n",
    "    x = x / 255.\n",
    "    if flatten:\n",
    "        x = x.reshape((len(x), -1))\n",
    "    return x\n",
    "\n",
    "def preproc_y(y, num_classes=10):\n",
    "    if y.shape[-1] == 1:\n",
    "        y = keras.utils.to_categorical(y, num_classes)\n",
    "    return y    "
   ]
  },
  {
   "cell_type": "code",
   "execution_count": 6,
   "metadata": {
    "collapsed": true
   },
   "outputs": [],
   "source": [
    "x_train, y_train = train\n",
    "x_test, y_test = test\n",
    "\n",
    "# Preproc the inputs\n",
    "x_train = preproc_x(x_train, flatten=False)\n",
    "x_test = preproc_x(x_test, flatten=False)\n",
    "\n",
    "# Preprc the outputs\n",
    "y_train = preproc_y(y_train)\n",
    "y_test = preproc_y(y_test)"
   ]
  },
  {
   "cell_type": "code",
   "execution_count": 13,
   "metadata": {},
   "outputs": [],
   "source": [
    "img_shape = x_train.shape[1:]"
   ]
  },
  {
   "cell_type": "code",
   "execution_count": 27,
   "metadata": {},
   "outputs": [
    {
     "name": "stdout",
     "output_type": "stream",
     "text": [
      "(0, 0) 10\n",
      "(1, 1) 11\n",
      "(2, 2) 12\n",
      "(3, 3) 13\n",
      "(4, 4) 14\n",
      "(5, 5) 15\n",
      "(6, 6) 16\n",
      "(7, 7) 17\n",
      "(8, 8) 18\n",
      "(9, 9) 19\n"
     ]
    }
   ],
   "source": [
    "x1 = range(10)\n",
    "x2 = range(10, 20)\n",
    "for ind, i in zip(enumerate(x1), x2):\n",
    "    print(ind, i)"
   ]
  },
  {
   "cell_type": "code",
   "execution_count": 33,
   "metadata": {
    "collapsed": true
   },
   "outputs": [],
   "source": [
    "# Hint 1 : 在 Dense 層中增加 Regularizers\n",
    "# Hint 2 : 增加 Dropout 層並設定 dropout ratio \n",
    "# Hint 3 : 增加 Batch-normalization 層\n",
    "def build_cnn(input_shape, dense_neuron, drop_rate, output_shape):\n",
    "    input_layer = Input(shape=input_shape)\n",
    "    conv = Conv2D(filters=64, kernel_size=(3, 3), padding='same')(input_layer)\n",
    "    maxpool = MaxPool2D()(conv)\n",
    "    conv = Conv2D(filters=32, kernel_size=(3, 3), padding='same')(maxpool)\n",
    "    maxpool = MaxPool2D()(conv)\n",
    "    flatten_layer = Flatten()(maxpool)\n",
    "    \n",
    "    for tup, rate in zip(enumerate(dense_neuron), drop_rate):\n",
    "        ind, num = tup\n",
    "        if ind == 0:\n",
    "            dense_layer = Dense(units=num, kernel_regularizer=l2(), activation='relu')(flatten_layer)\n",
    "            drop_layer = Dropout(rate)(dense_layer)\n",
    "        else:\n",
    "            dense_layer = Dense(units=num, kernel_regularizer=l2(), activation='relu')(drop_layer)\n",
    "            drop_layer = Dropout(rate)(dense_layer)\n",
    "    \n",
    "    output = Dense(units=output_shape, activation='softmax')(drop_layer)\n",
    "    model = Model(inputs=[input_layer], outputs=[output])\n",
    "    \n",
    "    return model\n",
    "\n",
    "def build_bn_cnn(input_shape, dense_neuron, output_shape):\n",
    "    input_layer = Input(shape=input_shape)\n",
    "    conv = Conv2D(filters=64, kernel_size=(3, 3), padding='same')(input_layer)\n",
    "    maxpool = MaxPool2D()(conv)\n",
    "    conv = Conv2D(filters=32, kernel_size=(3, 3), padding='same')(maxpool)\n",
    "    maxpool = MaxPool2D()(conv)\n",
    "    flatten_layer = Flatten()(maxpool)\n",
    "    \n",
    "    for ind, num in enumerate(dense_neuron):\n",
    "        if ind == 0:\n",
    "            dense_layer = Dense(units=num)(flatten_layer)\n",
    "            batch_normal = BatchNormalization()(dense_layer)\n",
    "            act = Activation(activation='relu')(batch_normal)\n",
    "        else:\n",
    "            dense_layer = Dense(units=num, activation='relu')(act)\n",
    "            batch_normal = BatchNormalization()(dense_layer)\n",
    "            act = Activation(activation='relu')(batch_normal)\n",
    "            \n",
    "    output = Dense(units=output_shape, activation='softmax')(dense_layer)\n",
    "    model = Model(inputs=[input_layer], outputs=[output])\n",
    "    \n",
    "    return model\n",
    "\n",
    "model = build_bn_cnn(img_shape, [256, 128], 10)\n",
    "model = build_cnn(img_shape, dense_neuron=[256, 128], drop_rate=[0.7, 0.7], output_shape=10)"
   ]
  },
  {
   "cell_type": "code",
   "execution_count": 37,
   "metadata": {
    "collapsed": true
   },
   "outputs": [],
   "source": [
    "## 超參數設定\n",
    "LEARNING_RATE = 1e-4\n",
    "EPOCHS = 5\n",
    "BATCH_SIZE = 256\n",
    "INPUT_SHPAE = img_shape\n",
    "OUTPUT_SHAPE = 10\n",
    "DENSE_NEURON = [256, 128]\n",
    "DROPOUT_RATE = [0.7, 0.7]\n",
    "model_option = {'BN_CNN': build_bn_cnn, 'REGULAR_CNN': build_cnn}\n",
    "\n",
    "model_parameters = {\n",
    "    'BN_CNN': {'input_shape': INPUT_SHPAE,\n",
    "               'dense_neuron': DENSE_NEURON,\n",
    "               'output_shape': OUTPUT_SHAPE\n",
    "              },      \n",
    "    'REGULAR_CNN': {'input_shape': INPUT_SHPAE,\n",
    "                    'dense_neuron': DENSE_NEURON,\n",
    "                    'drop_rate': DROPOUT_RATE,\n",
    "                    'output_shape': OUTPUT_SHAPE\n",
    "                   }\n",
    "}"
   ]
  },
  {
   "cell_type": "code",
   "execution_count": 40,
   "metadata": {
    "collapsed": true,
    "scrolled": true
   },
   "outputs": [
    {
     "name": "stdout",
     "output_type": "stream",
     "text": [
      "Train on 50000 samples, validate on 10000 samples\n",
      "Epoch 1/5\n",
      "50000/50000 [==============================] - 59s 1ms/step - loss: 1.3204 - acc: 0.5330 - val_loss: 2.2188 - val_acc: 0.3720\n",
      "Epoch 2/5\n",
      "50000/50000 [==============================] - 57s 1ms/step - loss: 0.9178 - acc: 0.6808 - val_loss: 1.2256 - val_acc: 0.5809\n",
      "Epoch 3/5\n",
      "50000/50000 [==============================] - 55s 1ms/step - loss: 0.7474 - acc: 0.7397 - val_loss: 2.7618 - val_acc: 0.3615\n",
      "Epoch 4/5\n",
      "50000/50000 [==============================] - 55s 1ms/step - loss: 0.6094 - acc: 0.7906 - val_loss: 1.1642 - val_acc: 0.6268\n",
      "Epoch 5/5\n",
      "50000/50000 [==============================] - 58s 1ms/step - loss: 0.4935 - acc: 0.8302 - val_loss: 1.0229 - val_acc: 0.6683\n",
      "Train on 50000 samples, validate on 10000 samples\n",
      "Epoch 1/5\n",
      "50000/50000 [==============================] - 58s 1ms/step - loss: 3.0332 - acc: 0.2629 - val_loss: 1.8465 - val_acc: 0.4289\n",
      "Epoch 2/5\n",
      "50000/50000 [==============================] - 56s 1ms/step - loss: 1.9206 - acc: 0.3907 - val_loss: 1.7296 - val_acc: 0.4767\n",
      "Epoch 3/5\n",
      "50000/50000 [==============================] - 54s 1ms/step - loss: 1.8527 - acc: 0.4253 - val_loss: 1.6589 - val_acc: 0.5042\n",
      "Epoch 4/5\n",
      "50000/50000 [==============================] - 54s 1ms/step - loss: 1.8122 - acc: 0.4503 - val_loss: 1.6081 - val_acc: 0.5377\n",
      "Epoch 5/5\n",
      "50000/50000 [==============================] - 55s 1ms/step - loss: 1.7820 - acc: 0.4699 - val_loss: 1.6389 - val_acc: 0.5285\n"
     ]
    }
   ],
   "source": [
    "results = {}\n",
    "for name, m in model_option.items():\n",
    "    parameters = model_parameters[name]\n",
    "    model = m(**parameters)\n",
    "    model.compile(optimizer='adam', loss='categorical_crossentropy', metrics=['accuracy'])\n",
    "    model.fit(x_train, y_train, batch_size=BATCH_SIZE,\n",
    "              epochs=EPOCHS, validation_data=(x_test, y_test), shuffle=True)\n",
    "    \n",
    "    train_loss = model.history.history[\"loss\"]\n",
    "    valid_loss = model.history.history[\"val_loss\"]\n",
    "    train_acc = model.history.history[\"acc\"]\n",
    "    valid_acc = model.history.history[\"val_acc\"]\n",
    "    \n",
    "    results[name] = {\n",
    "        'train_loss': train_loss, \n",
    "        'valid_loss': valid_loss,\n",
    "        'train_acc': train_acc,\n",
    "        'valid_acc': valid_acc\n",
    "    }"
   ]
  },
  {
   "cell_type": "code",
   "execution_count": 41,
   "metadata": {
    "collapsed": true
   },
   "outputs": [
    {
     "data": {
      "image/png": "[encoded data removed]",
      "text/plain": [
       "<Figure size 576x432 with 1 Axes>"
      ]
     },
     "metadata": {
      "needs_background": "light"
     },
     "output_type": "display_data"
    },
    {
     "data": {
      "image/png": "[encoded data removed]",
      "text/plain": [
       "<Figure size 576x432 with 1 Axes>"
      ]
     },
     "metadata": {
      "needs_background": "light"
     },
     "output_type": "display_data"
    }
   ],
   "source": [
    "import matplotlib.pyplot as plt\n",
    "%matplotlib inline\n",
    "color_bar = [\"r\", \"g\", \"b\", \"y\", \"m\", \"k\"]\n",
    "\n",
    "plt.figure(figsize=(8,6))\n",
    "for i, cond in enumerate(results.keys()):\n",
    "    plt.plot(range(len(results[cond]['train_loss'])),results[cond]['train_loss'], '-', label=cond, color=color_bar[i])\n",
    "    plt.plot(range(len(results[cond]['valid_loss'])),results[cond]['valid_loss'], '--', label=cond, color=color_bar[i])\n",
    "plt.title(\"Loss\")\n",
    "plt.ylim([0, 5])\n",
    "plt.legend()\n",
    "plt.show()\n",
    "\n",
    "plt.figure(figsize=(8,6))\n",
    "for i, cond in enumerate(results.keys()):\n",
    "    plt.plot(range(len(results[cond]['train_acc'])),results[cond]['train_acc'], '-', label=cond, color=color_bar[i])\n",
    "    plt.plot(range(len(results[cond]['valid_acc'])),results[cond]['valid_acc'], '--', label=cond, color=color_bar[i])\n",
    "plt.title(\"Accuracy\")\n",
    "plt.legend()\n",
    "plt.show()"
   ]
  }
 ],
 "metadata": {
  "kernelspec": {
   "display_name": "Python 3",
   "language": "python",
   "name": "python3"
  },
  "language_info": {
   "codemirror_mode": {
    "name": "ipython",
    "version": 3
   },
   "file_extension": ".py",
   "mimetype": "text/x-python",
   "name": "python",
   "nbconvert_exporter": "python",
   "pygments_lexer": "ipython3",
   "version": "3.6.8"
  }
 },
 "nbformat": 4,
 "nbformat_minor": 2
}
