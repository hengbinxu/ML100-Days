{
 "cells": [
  {
   "cell_type": "markdown",
   "metadata": {},
   "source": [
    "## Work\n",
    "1. 試比較有 BN 在 Batch_size = 2, 16, 32, 128, 256 下的差異\n",
    "2. 請嘗試將 BN 放在 Activation 之前，並比較訓練結果\n",
    "3. 請於 BN 放在 Input Layer 後，並比較結果"
   ]
  },
  {
   "cell_type": "code",
   "execution_count": 1,
   "metadata": {},
   "outputs": [
    {
     "name": "stderr",
     "output_type": "stream",
     "text": [
      "Using TensorFlow backend.\n"
     ]
    }
   ],
   "source": [
    "import os\n",
    "import keras\n",
    "from keras.datasets import cifar10\n",
    "from keras.models import Model\n",
    "from keras.layers import Input, Dense, BatchNormalization, Activation\n",
    "from keras.utils import to_categorical\n",
    "import itertools\n",
    "\n",
    "# Disable GPU\n",
    "os.environ[\"CUDA_VISIBLE_DEVICES\"] = \"\""
   ]
  },
  {
   "cell_type": "code",
   "execution_count": 2,
   "metadata": {},
   "outputs": [],
   "source": [
    "train, test = cifar10.load_data()"
   ]
  },
  {
   "cell_type": "code",
   "execution_count": 3,
   "metadata": {},
   "outputs": [],
   "source": [
    "## 資料前處理\n",
    "def preproc_x(x, flatten=True):\n",
    "    x = x / 255.\n",
    "    if flatten:\n",
    "        x = x.reshape((len(x), -1))\n",
    "    return x\n",
    "\n",
    "def preproc_y(y, num_classes=10):\n",
    "    if y.shape[-1] == 1:\n",
    "        y = keras.utils.to_categorical(y, num_classes)\n",
    "    return y    "
   ]
  },
  {
   "cell_type": "code",
   "execution_count": 4,
   "metadata": {},
   "outputs": [],
   "source": [
    "x_train, y_train = train\n",
    "x_test, y_test = test\n",
    "\n",
    "# Preproc the inputs\n",
    "x_train = preproc_x(x_train)\n",
    "x_test = preproc_x(x_test)\n",
    "input_shape = x_train.shape[1:]\n",
    "\n",
    "# Preprc the outputs\n",
    "y_train = preproc_y(y_train)\n",
    "y_test = preproc_y(y_test)"
   ]
  },
  {
   "cell_type": "code",
   "execution_count": 5,
   "metadata": {},
   "outputs": [],
   "source": [
    "def build_mlp1(input_shape, hidden_neuron_num, output_shape):\n",
    "    input_layer = Input(shape=input_shape)\n",
    "    for ind, num in enumerate(hidden_neuron_num):\n",
    "        if ind == 0:\n",
    "            x = Dense(units=num)(input_layer)\n",
    "            x = BatchNormalization()(x)\n",
    "            x = Activation(activation='relu')(x)\n",
    "        else:\n",
    "            x = Dense(units=num)(x)\n",
    "            x = BatchNormalization()(x)\n",
    "            x = Activation(activation='relu')(x)\n",
    "            \n",
    "    output_layer = Dense(units=output_shape, activation='softmax')(x)\n",
    "    model = Model(inputs=[input_layer], outputs=[output_layer])\n",
    "        \n",
    "    return model\n",
    "\n",
    "def build_mlp2(input_shape, hidden_neuron_num, output_shape):\n",
    "    input_layer = Input(shape=input_shape)\n",
    "    for ind, num in enumerate(hidden_neuron_num):\n",
    "        if ind == 0:\n",
    "            x = Dense(units=num)(input_layer)\n",
    "            x = Activation(activation='relu')(x)\n",
    "            x = BatchNormalization()(x)\n",
    "        else:\n",
    "            x = Dense(units=num)(x)\n",
    "            x = Activation(activation='relu')(x)\n",
    "            x = BatchNormalization()(x)\n",
    "            \n",
    "    output_layer = Dense(units=output_shape, activation='softmax')(x)\n",
    "    model = Model(inputs=[input_layer], outputs=[output_layer])\n",
    "        \n",
    "    return model"
   ]
  },
  {
   "cell_type": "code",
   "execution_count": 6,
   "metadata": {},
   "outputs": [],
   "source": [
    "## 超參數設定\n",
    "LEARNING = 1e-4\n",
    "EPOCHS = 5\n",
    "BATCH_SIZE = [2, 16, 32, 128, 256]\n",
    "HIDDEN_NEURON_NUM = [256, 128]\n",
    "OUTPUT_SIZE = 10\n",
    "# model 1 Batch-Normalization before activation\n",
    "# model 2 Batch-Normalization before input layer\n",
    "models = {'model1':build_mlp1, 'model2':build_mlp2}"
   ]
  },
  {
   "cell_type": "code",
   "execution_count": null,
   "metadata": {
    "scrolled": true
   },
   "outputs": [
    {
     "name": "stdout",
     "output_type": "stream",
     "text": [
      "Train on 50000 samples, validate on 10000 samples\n",
      "Epoch 1/1\n",
      "50000/50000 [==============================] - 107s 2ms/step - loss: 2.2379 - acc: 0.1699 - val_loss: 2.0945 - val_acc: 0.2520\n",
      "Train on 50000 samples, validate on 10000 samples\n",
      "Epoch 1/1\n",
      "13776/50000 [=======>......................] - ETA: 12s - loss: 1.8392 - acc: 0.3481"
     ]
    }
   ],
   "source": [
    "results = {}\n",
    "for name, mlp in models.items():\n",
    "    for size in BATCH_SIZE:\n",
    "        keras.backend.clear_session()\n",
    "        model = mlp(input_shape, HIDDEN_NEURON_NUM, OUTPUT_SIZE)\n",
    "        model.compile(optimizer='adam',\n",
    "                      loss='categorical_crossentropy',\n",
    "                      metrics=['accuracy'])\n",
    "        model.fit(x_train, y_train,\n",
    "                  epochs=Epochs, \n",
    "                  batch_size=size,\n",
    "                  validation_data=(x_test, y_test),\n",
    "                  shuffle=True)\n",
    "        \n",
    "        train_loss = model.history.history[\"loss\"]\n",
    "        valid_loss = model.history.history[\"val_loss\"]\n",
    "        train_acc = model.history.history[\"acc\"]\n",
    "        valid_acc = model.history.history[\"val_acc\"]\n",
    "        \n",
    "        experiment = ':'.join([name, str(size)])\n",
    "        results[experiment] = {\n",
    "            'train_loss': train_loss,\n",
    "            'valid_loss': valid_loss,\n",
    "            'train_acc': train_acc,\n",
    "            'valid_acc': valid_acc\n",
    "        }"
   ]
  },
  {
   "cell_type": "code",
   "execution_count": null,
   "metadata": {},
   "outputs": [],
   "source": [
    "import matplotlib.pyplot as plt\n",
    "%matplotlib inline\n",
    "color_bar = [\"r\", \"g\", \"b\", \"y\", \"m\", \"k\"]\n",
    "\n",
    "plt.figure(figsize=(8,6))\n",
    "for i, cond in enumerate(results.keys()):\n",
    "    plt.plot(range(len(results[cond]['train_loss'])),results[cond]['train_loss'], '-', label=cond, color=color_bar[i])\n",
    "    plt.plot(range(len(results[cond]['valid_loss'])),results[cond]['valid_loss'], '--', label=cond, color=color_bar[i])\n",
    "plt.title(\"Loss\")\n",
    "plt.ylim([0, 5])\n",
    "plt.legend()\n",
    "plt.show()\n",
    "\n",
    "plt.figure(figsize=(8,6))\n",
    "for i, cond in enumerate(results.keys()):\n",
    "    plt.plot(range(len(results[cond]['train_acc'])),results[cond]['train_acc'], '-', label=cond, color=color_bar[i])\n",
    "    plt.plot(range(len(results[cond]['valid_acc'])),results[cond]['valid_acc'], '--', label=cond, color=color_bar[i])\n",
    "plt.title(\"Accuracy\")\n",
    "plt.legend()\n",
    "plt.show()"
   ]
  }
 ],
 "metadata": {
  "kernelspec": {
   "display_name": "Python 3",
   "language": "python",
   "name": "python3"
  },
  "language_info": {
   "codemirror_mode": {
    "name": "ipython",
    "version": 3
   },
   "file_extension": ".py",
   "mimetype": "text/x-python",
   "name": "python",
   "nbconvert_exporter": "python",
   "pygments_lexer": "ipython3",
   "version": "3.6.8"
  }
 },
 "nbformat": 4,
 "nbformat_minor": 2
}
