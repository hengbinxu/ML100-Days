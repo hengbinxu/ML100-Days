{
 "cells": [
  {
   "cell_type": "markdown",
   "metadata": {},
   "source": [
    "## Work\n",
    "1. 請改變 reduce_lr 的 patience 和 factor 並比較不同設定下，對訓練/驗證集的影響\n",
    "2. 請將 optimizer 換成 Adam、RMSprop 搭配 reduce_lr 並比較訓練結果"
   ]
  },
  {
   "cell_type": "code",
   "execution_count": 1,
   "metadata": {},
   "outputs": [
    {
     "name": "stderr",
     "output_type": "stream",
     "text": [
      "Using TensorFlow backend.\n"
     ]
    }
   ],
   "source": [
    "import os\n",
    "import keras\n",
    "from keras.datasets import cifar10, mnist\n",
    "from keras.models import Model, load_model\n",
    "from keras.layers import Input, Conv2D, MaxPool2D, Dense\n",
    "from keras.layers import Flatten, BatchNormalization, Activation\n",
    "from keras.utils import to_categorical\n",
    "from keras.callbacks import ReduceLROnPlateau\n",
    "from keras.optimizers import Adam, RMSprop\n",
    "\n",
    "# Disable GPU\n",
    "os.environ[\"CUDA_VISIBLE_DEVICES\"] = \"\""
   ]
  },
  {
   "cell_type": "code",
   "execution_count": 2,
   "metadata": {},
   "outputs": [],
   "source": [
    "train, test = cifar10.load_data()"
   ]
  },
  {
   "cell_type": "code",
   "execution_count": 3,
   "metadata": {
    "collapsed": true
   },
   "outputs": [],
   "source": [
    "## 資料前處理\n",
    "def preproc_x(x, flatten=True):\n",
    "    x = x / 255.\n",
    "    if flatten:\n",
    "        x = x.reshape((len(x), -1))\n",
    "    return x\n",
    "\n",
    "def preproc_y(y, num_classes=10):\n",
    "    if y.shape[-1] == 1:\n",
    "        y = keras.utils.to_categorical(y, num_classes)\n",
    "    return y    "
   ]
  },
  {
   "cell_type": "code",
   "execution_count": 4,
   "metadata": {
    "collapsed": true
   },
   "outputs": [],
   "source": [
    "x_train, y_train = train\n",
    "x_test, y_test = test\n",
    "\n",
    "# Preproc the inputs\n",
    "x_train = preproc_x(x_train, flatten=False)\n",
    "x_test = preproc_x(x_test, flatten=False)\n",
    "\n",
    "# Preprc the outputs\n",
    "y_train = preproc_y(y_train)\n",
    "y_test = preproc_y(y_test)"
   ]
  },
  {
   "cell_type": "code",
   "execution_count": 5,
   "metadata": {
    "collapsed": true
   },
   "outputs": [],
   "source": [
    "def build_cnn(input_shape, dense_neurno, output_shape):\n",
    "    input_layer = Input(input_shape)\n",
    "    conv = Conv2D(filters=64, kernel_size=(3, 3), padding='same', name='conv1')(input_layer)\n",
    "    maxpool = MaxPool2D(name='Max_pool1')(conv)\n",
    "    conv = Conv2D(filters=32, kernel_size=(3, 3), padding='same', name='conv2')(maxpool)\n",
    "    maxpool = MaxPool2D(name='Max_pool2')(conv)\n",
    "    flatten_layer = Flatten()(maxpool)\n",
    "    for ind, num in enumerate(dense_neurno):\n",
    "        if ind == 0:\n",
    "            dense_layer = Dense(num)(flatten_layer)\n",
    "            bn_layer = BatchNormalization()(dense_layer)\n",
    "            act_layer = Activation(activation='relu')(bn_layer)         \n",
    "        else:\n",
    "            dense_layer = Dense(num)(flatten_layer)\n",
    "            bn_layer = BatchNormalization()(dense_layer)\n",
    "            act_layer = Activation(activation='relu')(bn_layer)\n",
    "            \n",
    "    output = Dense(output_shape, activation='softmax')(act_layer)\n",
    "    model = Model(inputs=[input_layer], outputs=[output])\n",
    "    \n",
    "    return model"
   ]
  },
  {
   "cell_type": "code",
   "execution_count": 6,
   "metadata": {
    "collapsed": true
   },
   "outputs": [],
   "source": [
    "## 超參數設定\n",
    "LEARNING_RATE = 1e-3\n",
    "EPOCHS = 50\n",
    "BATCH_SIZE = 256\n",
    "DENSE_NEURONS = [256, 128, 64]\n",
    "INPUT_SHAPE = x_train.shape[1:]\n",
    "OUTPUT_SHAPE = 10\n",
    "\n",
    "OPTIMIZER = {'Adam': Adam, 'RMSprop': RMSprop}\n",
    "\n",
    "FACTOR = [0.1, 0.2, 0.3]\n",
    "PATIENCE = [10, 20]\n",
    "REDUCE_LR_SETTING = [{'factor': i, 'patience': j} for i in FACTOR for j in PATIENCE]"
   ]
  },
  {
   "cell_type": "code",
   "execution_count": 7,
   "metadata": {},
   "outputs": [],
   "source": [
    "result = dict()\n",
    "for opt_name, opt in OPTIMIZER.items():\n",
    "    for param in REDUCE_LR_SETTING:\n",
    "        keras.backend.clear_session()\n",
    "        model = build_cnn(INPUT_SHAPE, DENSE_NEURONS, OUTPUT_SHAPE)\n",
    "        reduce_lr = ReduceLROnPlateau(**param)\n",
    "        model.compile(optimizer=opt(), loss='categorical_crossentropy', metrics=['accuracy'])\n",
    "        model.fit(x_train, y_train, batch_size=BATCH_SIZE,\n",
    "                  epochs=EPOCHS, validation_data=(x_test, y_test),\n",
    "                  shuffle=True, callbacks=[reduce_lr])\n",
    "        \n",
    "        f, p = param['factor'], param['patience']\n",
    "        experiment = '{}: f={}, p={} '.format(opt_name, f, p)\n",
    "        train_loss = model.history.history['loss']\n",
    "        valid_loss = model.history.history['val_loss']\n",
    "        train_acc = model.history.history['acc']\n",
    "        valid_loss = model.history.history['val_acc']\n",
    "        \n",
    "        result[experiment] = {\n",
    "            'train_loss': train_loss,\n",
    "            'valid_loss': valid_loss,\n",
    "            'train_acc': train_acc,\n",
    "            'valid_acc': valid_acc\n",
    "        }"
   ]
  },
  {
   "cell_type": "code",
   "execution_count": 8,
   "metadata": {
    "collapsed": true,
    "scrolled": true
   },
   "outputs": [],
   "source": [
    "import matplotlib.pyplot as plt\n",
    "%matplotlib inline\n",
    "color_bar = [\"r\", \"g\", \"b\", \"y\", \"m\", \"k\"]\n",
    "\n",
    "plt.figure(figsize=(8,6))\n",
    "for i, cond in enumerate(results.keys()):\n",
    "    plt.plot(range(len(results[cond]['train_loss'])),results[cond]['train_loss'], '-', label=cond, color=color_bar[i])\n",
    "    plt.plot(range(len(results[cond]['valid_loss'])),results[cond]['valid_loss'], '--', label=cond, color=color_bar[i])\n",
    "plt.title(\"Loss\")\n",
    "plt.ylim([0, 5])\n",
    "plt.legend()\n",
    "plt.show()\n",
    "\n",
    "plt.figure(figsize=(8,6))\n",
    "for i, cond in enumerate(results.keys()):\n",
    "    plt.plot(range(len(results[cond]['train_acc'])),results[cond]['train_acc'], '-', label=cond, color=color_bar[i])\n",
    "    plt.plot(range(len(results[cond]['valid_acc'])),results[cond]['valid_acc'], '--', label=cond, color=color_bar[i])\n",
    "plt.title(\"Accuracy\")\n",
    "plt.legend()\n",
    "plt.show()"
   ]
  }
 ],
 "metadata": {
  "anaconda-cloud": {},
  "kernelspec": {
   "display_name": "Python 3",
   "language": "python",
   "name": "python3"
  },
  "language_info": {
   "codemirror_mode": {
    "name": "ipython",
    "version": 3
   },
   "file_extension": ".py",
   "mimetype": "text/x-python",
   "name": "python",
   "nbconvert_exporter": "python",
   "pygments_lexer": "ipython3",
   "version": "3.6.8"
  }
 },
 "nbformat": 4,
 "nbformat_minor": 2
}
