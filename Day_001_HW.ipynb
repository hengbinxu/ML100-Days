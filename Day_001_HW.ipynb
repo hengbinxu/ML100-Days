{
 "cells": [
  {
   "cell_type": "markdown",
   "metadata": {},
   "source": [
    "### ***Assignment 1:***\n",
    " - Competitions: [Two Sigma: Using News to Predict Stock Movements](https://www.kaggle.com/c/two-sigma-financial-news/data)\n",
    "    \n",
    "***1. Why importantance?***\n",
    " - If we can use news articles to efficiently predict stock price, we can reduce investment risk.\n",
    "    \n",
    "***2. Data Source:***\n",
    "    \n",
    " -  Market data (2007 to present) provided by [Intrinio - contains financial market information](https://intrinio.com/) such as opening price, closing price, trading volume, calculated returns, etc.\n",
    " - News data (2007 to present) Source: [Thomson Reuters](https://www.reuters.com/) - contains information about news articles/alerts published about assets, such as article details, sentiment, and other commentary.\n",
    "    \n",
    "***3. Data Type:***\n",
    " - **Market data:**\n",
    "     - __time__ _(datetime64[ns, UTC])_  - the current time (in marketdata, all rows are taken at 22:00 UTC)\n",
    "     - __assetCode__ _(object)_ - a unique id of an asset\n",
    "     - __assetName__ _(category)_ - the name that corresponds to a group of assetCodes. These may be \"Unknown\" if thcorresponding assetCode does not have any rows in the news data.\n",
    "     - __universe__ _(float64)_ - a boolean indicating whether or not the instrument on that day will be included in scoring. This value is not provided outside of the training data time period. The trading universe on a given date is the set of instruments that are avilable for trading (the scoring function will not consider instruments that are not in the trading universe). The trading universe changes daily.\n",
    "     - __volume__ _(float64)_ - trading volume in shares for the day\n",
    "     - __close__ _(float64)_ - the close price for the day (not adjusted for splits or dividends)\n",
    "     - __open__ _(float64)_ - the open price for the day (not adjusted for splits or dividends)\n",
    "     - __returnsClosePrevRaw1__ _(float64)_ - see returns explanation above\n",
    "     - __returnsOpenPrevRaw1__ _(float64)_ - see returns explanation above\n",
    "     - __returnsClosePrevMktres1__ _(float64)_ - see returns explanation above\n",
    "     - __returnsOpenPrevMktres1__ _(float64)_ - see returns explanation above\n",
    "     - __returnsClosePrevRaw10__ _(float64)_ - see returns explanation above\n",
    "     - __returnsOpenPrevRaw10__ _(float64)_ - see returns explanation above\n",
    "     - __returnsClosePrevMktres10__ _(float64)_ - see returns explanation above\n",
    "     - __returnsOpenPrevMktres10__ _(float64)_ - see returns explanation above\n",
    "     - __returnsOpenNextMktres10__ _(float64)_ - 10 day, market-residualized return. This is the target variable used in competition scoring. The market data has been filtered such that returnsOpenNextMktres10 is always not null.\n",
    "\n",
    "\n",
    " - **News data:**\n",
    "    - __time__ _(datetime64[ns, UTC])_ - UTC timestamp showing when the data was available on the feed (second precision)\n",
    "    - __sourceTimestamp__ _(datetime64[ns, UTC])_ - UTC timestamp of this news item when it was created\n",
    "    - __firstCreated__ _(datetime64[ns, UTC])_ - UTC timestamp for the first version of the item\n",
    "    - __sourceId__ _(object)_ - an Id for each news item\n",
    "    - __headline__ _(object)_ - the item's headline\n",
    "    - __urgency__ _(int8)_ - differentiates story types (1: alert, 3: article)\n",
    "    - __takeSequence__ _(int16)_ - the take sequence number of the news item, starting at 1. For a given story, alerts and articles have separate sequences.\n",
    "    - __provider__ _(category)_ - identifier for the organization which provided the news item (e.g. RTRS for Reuters News, BSW for Business Wire)\n",
    "    - __subjects__ _(category)_ - topic codes and company identifiers that relate to this news item. Topic codes describe the news item's subject matter. These can cover asset classes, geographies, events, industries/sectors, and other types.\n",
    "    - __audiences__ _(category)_ - identifies which desktop news product(s) the news item belongs to. They are typically tailored to specific audiences. (e.g. \"M\" for Money International News Service and \"FB\" for French General News Service)\n",
    "    - __bodySize__ _(int32)_ - the size of the current version of the story body in characters\n",
    "    - __companyCount__ _(int8)_ - the number of companies explicitly listed in the news item in the subjects field\n",
    "    - __headlineTag__ _(object)_ - the Thomson Reuters headline tag for the news item\n",
    "    - __marketCommentary__ _(bool)_ - boolean indicator that the item is discussing general market conditions, such as \"After the Bell\" summaries\n",
    "    - __sentenceCount__ _(int16)_ - the total number of sentences in the news item. Can be used in conjunction with firstMentionSentence to determine the relative position of the first mention in the item.\n",
    "    - __wordCount__ _(int32)_ - the total number of lexical tokens (words and punctuation) in the news item\n",
    "    - __assetCodes__ _(category)_ - list of assets mentioned in the item\n",
    "    - __vassetName__ _(category)_ - name of the asset\n",
    "    - __firstMentionSentence__ _(int16)_ - the first sentence, starting with the headline, in which the scored asset is mentioned.\n",
    "     1. headline\n",
    "     2. first sentence of the story body\n",
    "     3. second sentence of the body, etc\n",
    "     4. the asset being scored was not found in the news item's headline or body text. As a result, the entire news item's text (headline + body) will be used to determine the sentiment score.\n",
    "    - __relevance__ _(float32)_ - a decimal number indicating the relevance of the news item to the asset. It ranges from 0 to 1. If the asset is mentioned in the headline, the relevance is set to 1. When the item is an alert (urgency == 1), relevance should be gauged by firstMentionSentence instead.\n",
    "    - __sentimentClass__ _(int8)_ - indicates the predominant sentiment class for this news item with respect to the asset. The indicated class is the one with the highest probability.\n",
    "    - __sentimentNegative__ _(float32)_ - probability that the sentiment of the news item was negative for the asset\n",
    "    - __sentimentNeutral__ _(float32)_ - probability that the sentiment of the news item was neutral for the asset\n",
    "    - __sentimentPositive__ _(float32)_ - probability that the sentiment of the news item was positive for the asset\n",
    "    - __sentimentWordCount__ _(int32)_ - the number of lexical tokens in the sections of the item text that are deemed relevant to the asset. This can be used in conjunction with wordCount to determine the proportion of the news item discussing the asset.\n",
    "    - __noveltyCount12H__ _(int16)_ - The 12 hour novelty of the content within a news item on a particular asset. It is calculated by comparing it with the asset-specific text over a cache of previous news items that contain the asset.\n",
    "    - __noveltyCount24H__ _(int16)_ - same as above, but for 24 hours\n",
    "    - __noveltyCount3D__ _(int16)_ - same as above, but for 3 days\n",
    "    - __noveltyCount5D__ _(int16)_ - same as above, but for 5 days\n",
    "    - __noveltyCount7D__ _(int16)_ - same as above, but for 7 days\n",
    "    - __volumeCounts12H__ _(int16)_ - the 12 hour volume of news for each asset. A cache of previous news items is maintained and the number of news items that mention the asset within each of five historical periods is calculated.\n",
    "    - __volumeCounts24H__ _(int16)_ - same as above, but for 24 hours\n",
    "    - __volumeCounts3D__ _(int16)_ - same as above, but for 3 days\n",
    "    - __volumeCounts5D__ _(int16)_ - same as above, but for 5 days\n",
    "    - __volumeCounts7D__ _(int16)_ - same as above, but for 7 days\n",
    "    \n",
    "***4. How to evalute ? (Loss function)***\n",
    "    \n",
    " <img src=\"img/Hw1_loss_function.png\" align=\"left\" height='450' width='600'/>"
   ]
  },
  {
   "cell_type": "markdown",
   "metadata": {},
   "source": [
    "### ___Assignment 2___:\n",
    "\n",
    "***1. Main Question:***\n",
    " \n",
    " - 如何降低司機載客的空窗時間，根據每個時段與每個地段的乘車需求分配相對應的車輛數，不僅能降低司機間載客的空窗期，更能降低車輛支出的成本。\n",
    " \n",
    "***2. Data Source:***\n",
    "\n",
    " -  [各縣市公路統計資料](https://www.thb.gov.tw/sites/ch/modules/download/download_list?node=3ba953bc-913d-4a13-b77b-0b7128fbe9a9&c=a2c29922-0c40-4a49-a8bc-65c3959b9cc4)\n",
    "\n",
    " - 行動支付的紀錄與汽車上的sensor\n",
    " \n",
    "***3. Data Type:***\n",
    " - __difftime__ _(datetime64)_: 司機載客空窗時間\n",
    " - __passenger_sex__ _(int)_: 乘客性別\n",
    " - __car_type__ _(string)_: 車子型號\n",
    " - __work_time__ _(int)_: 司機工作時間\n",
    " - __driver_sex__ _(int)_: 司機姓別\n",
    " - __manufacture_year__ (datetime64): 車子製造日期\n",
    " - __route__ _(float)_: 行車路徑\n",
    " - __weather__ _(string)_: 天氣\n",
    " - __tempeature__ _(float)_: 溫度\n",
    " - __number_of_passenger__ _(int)_: 一次載客的乘客數目\n",
    " - ........\n",
    " \n",
    "***4.How to evaluate?***\n",
    " - Mean Square Error:\n",
    "   - $ MSE = \\frac{1}{n}\\sum_{i=1}^{n}{(Y_i - \\hat{Y}_i)^2} $ , $Y_i$司機實際載客空窗時間，$\\hat{Y}_i$ 預測司機載客空窗時間"
   ]
  },
  {
   "cell_type": "markdown",
   "metadata": {},
   "source": [
    "## 練習時間\n",
    "#### 請寫一個函式用來計算 Mean Square Error\n",
    "$ MSE = \\frac{1}{n}\\sum_{i=1}^{n}{(Y_i - \\hat{Y}_i)^2} $\n",
    "\n",
    "### Hint: [如何取平方](https://googoodesign.gitbooks.io/-ezpython/unit-1.html)"
   ]
  },
  {
   "cell_type": "code",
   "execution_count": 1,
   "metadata": {},
   "outputs": [],
   "source": [
    "import numpy as np\n",
    "import matplotlib.pyplot as plt"
   ]
  },
  {
   "cell_type": "code",
   "execution_count": 2,
   "metadata": {},
   "outputs": [],
   "source": [
    "def mean_squared_error(y, yhat):\n",
    "    \"\"\"\n",
    "    請完成這個 Function 後往下執行\n",
    "    Calculate Mean Sequare Error\n",
    "    Args:\n",
    "        y: real value, type: numpy array\n",
    "        yhat: predict value, type: numpy array\n",
    "    \"\"\"\n",
    "    mse = sum((y - yhat)**2)/len(y)\n",
    "    return mse\n",
    "\n",
    "def mean_absolute_error(y, yhat):\n",
    "    '''\n",
    "    Calculate Mean Absoulute Error\n",
    "    Args:\n",
    "        y: real value, type: numpy array\n",
    "        yhat: predict value, type: numpy array\n",
    "    '''\n",
    "    mae = sum(np.abs(y - yhat))/len(y)\n",
    "    return mae"
   ]
  },
  {
   "cell_type": "code",
   "execution_count": 3,
   "metadata": {},
   "outputs": [
    {
     "data": {
      "image/png": "[encoded data removed]",
      "text/plain": [
       "<Figure size 432x288 with 1 Axes>"
      ]
     },
     "metadata": {
      "needs_background": "light"
     },
     "output_type": "display_data"
    }
   ],
   "source": [
    "w = 3\n",
    "b = 0.5\n",
    "\n",
    "x_lin = np.linspace(0, 100, 101)\n",
    "\n",
    "y = (x_lin + np.random.randn(101) * 5) * w + b\n",
    "\n",
    "plt.plot(x_lin, y, 'b.', label = 'data points')\n",
    "plt.title(\"Assume we have data points\")\n",
    "plt.legend(loc = 2)\n",
    "plt.show()"
   ]
  },
  {
   "cell_type": "code",
   "execution_count": 4,
   "metadata": {},
   "outputs": [
    {
     "data": {
      "image/png": "[encoded data removed]",
      "text/plain": [
       "<Figure size 432x288 with 1 Axes>"
      ]
     },
     "metadata": {
      "needs_background": "light"
     },
     "output_type": "display_data"
    }
   ],
   "source": [
    "y_hat = x_lin * w + b\n",
    "plt.plot(x_lin, y, 'b.', label = 'data')\n",
    "plt.plot(x_lin, y_hat, 'r-', label = 'prediction')\n",
    "plt.title(\"Assume we have data points (And the prediction)\")\n",
    "plt.legend(loc = 2)\n",
    "plt.show()"
   ]
  },
  {
   "cell_type": "code",
   "execution_count": 5,
   "metadata": {},
   "outputs": [
    {
     "name": "stdout",
     "output_type": "stream",
     "text": [
      "The Mean squared error is 254.013\n",
      "The Mean absolute error is 12.210\n"
     ]
    }
   ],
   "source": [
    "# 執行 Function, 確認有沒有正常執行\n",
    "MSE = mean_squared_error(y, y_hat)\n",
    "MAE = mean_absolute_error(y, y_hat)\n",
    "print(\"The Mean squared error is %.3f\" % (MSE))\n",
    "print(\"The Mean absolute error is %.3f\" % (MAE))"
   ]
  }
 ],
 "metadata": {
  "anaconda-cloud": {},
  "kernelspec": {
   "display_name": "Python 3",
   "language": "python",
   "name": "python3"
  },
  "language_info": {
   "codemirror_mode": {
    "name": "ipython",
    "version": 3
   },
   "file_extension": ".py",
   "mimetype": "text/x-python",
   "name": "python",
   "nbconvert_exporter": "python",
   "pygments_lexer": "ipython3",
   "version": "3.6.6"
  }
 },
 "nbformat": 4,
 "nbformat_minor": 2
}
