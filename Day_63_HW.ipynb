{
 "cells": [
  {
   "cell_type": "code",
   "execution_count": 1,
   "metadata": {
    "collapsed": true
   },
   "outputs": [],
   "source": [
    "import numpy as np\n",
    "import matplotlib.pyplot as plt\n",
    "\n",
    "#Input array\n",
    "X = np.array([[1, 0, 1, 0], [1 ,0 ,1 ,1 ],[ 0 , 1 , 0 , 1 ]])\n",
    "\n",
    "#Output\n",
    "y = np.array([[1], [1], [0]])"
   ]
  },
  {
   "cell_type": "code",
   "execution_count": 2,
   "metadata": {
    "collapsed": true
   },
   "outputs": [],
   "source": [
    "#Sigmoid Function\n",
    "def sigmoid(x): \n",
    "    return  1/(1+np.exp(-x))\n",
    "\n",
    "#Derivative of Sigmoid Function\n",
    "def derivatives_sigmoid(x): \n",
    "    return x*(1-x)"
   ]
  },
  {
   "cell_type": "code",
   "execution_count": 3,
   "metadata": {
    "collapsed": true
   },
   "outputs": [],
   "source": [
    "# Define hyper-parameters\n",
    "lr = 0.05\n",
    "epochs = 1000\n",
    "X_sample_size = X.shape[0]\n",
    "input_layer_neural = X.shape[1]\n",
    "hidden_layer_neural = 3\n",
    "output_layer_neural = y.shape[1]\n",
    "\n",
    "input_hidden_weight = np.random.normal(size=(input_layer_neural, hidden_layer_neural))\n",
    "input_hidden_bias = np.ones(shape=(1, hidden_layer_neural))\n",
    "hidden_output_weight = np.random.normal(size=(hidden_layer_neural, output_layer_neural))\n",
    "hidden_output_bias = np.ones(shape=(1, output_layer_neural))"
   ]
  },
  {
   "cell_type": "markdown",
   "metadata": {},
   "source": [
    "# 作業 \n",
    "* 請參閱範例中的 hidden Layer 寫法, 完成 output Layer 的程式"
   ]
  },
  {
   "cell_type": "code",
   "execution_count": 4,
   "metadata": {},
   "outputs": [
    {
     "name": "stdout",
     "output_type": "stream",
     "text": [
      "epochs: 0, loss: 0.8150782531640411\n",
      "epochs: 100, loss: 0.6686500130045518\n",
      "epochs: 200, loss: 0.6676771485039987\n",
      "epochs: 300, loss: 0.6673485704456956\n",
      "epochs: 400, loss: 0.6671827544378277\n",
      "epochs: 500, loss: 0.6670825295450934\n",
      "epochs: 600, loss: 0.667015300502702\n",
      "epochs: 700, loss: 0.6669670248763936\n",
      "epochs: 800, loss: 0.6669306495752785\n",
      "epochs: 900, loss: 0.666902240386453\n"
     ]
    }
   ],
   "source": [
    "loss_arr = np.array([])\n",
    "for i in range(epochs):\n",
    "    # forward pass\n",
    "    z1 = X.dot(input_hidden_weight) + input_hidden_bias\n",
    "    hidden_output = sigmoid(z1)\n",
    "\n",
    "    z2 = hidden_output.dot(hidden_output_weight) + hidden_output_bias\n",
    "    output_value = sigmoid(z2)\n",
    "    \n",
    "    # backword pass\n",
    "    loss = (2/X_sample_size)*np.sum(np.abs(y - output_value)) # parital loss respect y\n",
    "    loss_arr = np.append(loss_arr, loss)\n",
    "\n",
    "    partial_output_respect_z2 = derivatives_sigmoid(output_value) # Calculate parital output value respect z2\n",
    "    partial_hidden_output_respect_z1 = derivatives_sigmoid(hidden_output) # Calculate parital hidden output respect z1\n",
    "\n",
    "    partial_loss_respect_z2 = partial_output_respect_z2 * loss \n",
    "\n",
    "    partial_loss_respect_hidden_output = partial_loss_respect_z2.dot(hidden_output_weight.T)\n",
    "    partial_loss_respect_z1 = partial_loss_respect_hidden_output * partial_hidden_output_respect_z1\n",
    "\n",
    "    input_hidden_weight_gradient = X.T.dot(partial_loss_respect_z1)\n",
    "    hidden_output_weight_gradient = hidden_output.T.dot(partial_loss_respect_z2)\n",
    "\n",
    "    input_hidden_weight += input_hidden_weight_gradient * lr\n",
    "    input_hidden_bias += np.sum(partial_loss_respect_z1, axis=0, keepdims=True)\n",
    "\n",
    "    hidden_output_weight += hidden_output_weight_gradient *lr\n",
    "    hidden_output_bias += np.sum(partial_loss_respect_z2, axis=0, keepdims=True)\n",
    "    \n",
    "    if i % 100 == 0:\n",
    "        print('epochs: {}, loss: {}'.format(i, loss))"
   ]
  },
  {
   "cell_type": "code",
   "execution_count": 5,
   "metadata": {},
   "outputs": [
    {
     "data": {
      "image/png": "[encoded data removed]",
      "text/plain": [
       "<Figure size 432x288 with 1 Axes>"
      ]
     },
     "metadata": {
      "needs_background": "light"
     },
     "output_type": "display_data"
    }
   ],
   "source": [
    "plt.plot(list(range(epochs)), loss_arr)\n",
    "plt.xlabel('Number of epochs')\n",
    "plt.ylabel('Loss')\n",
    "plt.show()"
   ]
  },
  {
   "cell_type": "code",
   "execution_count": null,
   "metadata": {},
   "outputs": [],
   "source": []
  },
  {
   "cell_type": "code",
   "execution_count": null,
   "metadata": {},
   "outputs": [],
   "source": []
  }
 ],
 "metadata": {
  "kernelspec": {
   "display_name": "Python 3",
   "language": "python",
   "name": "python3"
  },
  "language_info": {
   "codemirror_mode": {
    "name": "ipython",
    "version": 3
   },
   "file_extension": ".py",
   "mimetype": "text/x-python",
   "name": "python",
   "nbconvert_exporter": "python",
   "pygments_lexer": "ipython3",
   "version": "3.6.6"
  }
 },
 "nbformat": 4,
 "nbformat_minor": 2
}
