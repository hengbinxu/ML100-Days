{
 "cells": [
  {
   "cell_type": "markdown",
   "metadata": {},
   "source": [
    "## Work\n",
    "1. 請嘗試寫一個 callback 用來記錄各類別在訓練過程中，對驗證集的 True Positive 與 True Negative"
   ]
  },
  {
   "cell_type": "code",
   "execution_count": 1,
   "metadata": {},
   "outputs": [
    {
     "name": "stderr",
     "output_type": "stream",
     "text": [
      "Using TensorFlow backend.\n"
     ]
    }
   ],
   "source": [
    "import os\n",
    "import keras\n",
    "from keras.datasets import cifar10, mnist\n",
    "from keras.models import Model, load_model\n",
    "from keras.layers import Input, Conv2D, MaxPool2D, Dense\n",
    "from keras.layers import Flatten, BatchNormalization, Activation\n",
    "from keras.utils import to_categorical\n",
    "from keras.optimizers import SGD\n",
    "from keras.callbacks import Callback\n",
    "from sklearn.metrics import confusion_matrix\n",
    "\n",
    "# Disable GPU\n",
    "os.environ[\"CUDA_VISIBLE_DEVICES\"] = \"\""
   ]
  },
  {
   "cell_type": "code",
   "execution_count": 2,
   "metadata": {},
   "outputs": [],
   "source": [
    "train, test = cifar10.load_data()"
   ]
  },
  {
   "cell_type": "code",
   "execution_count": 3,
   "metadata": {},
   "outputs": [],
   "source": [
    "## 資料前處理\n",
    "def preproc_x(x, flatten=True):\n",
    "    x = x / 255.\n",
    "    if flatten:\n",
    "        x = x.reshape((len(x), -1))\n",
    "    return x\n",
    "\n",
    "def preproc_y(y, num_classes=10):\n",
    "    if y.shape[-1] == 1:\n",
    "        y = keras.utils.to_categorical(y, num_classes)\n",
    "    return y    "
   ]
  },
  {
   "cell_type": "code",
   "execution_count": 4,
   "metadata": {},
   "outputs": [],
   "source": [
    "x_train, y_train = train\n",
    "x_test, y_test = test\n",
    "\n",
    "# Preproc the inputs\n",
    "x_train = preproc_x(x_train, flatten=False)\n",
    "x_test = preproc_x(x_test, flatten=False)\n",
    "\n",
    "# Preprc the outputs\n",
    "y_train = preproc_y(y_train)\n",
    "y_test = preproc_y(y_test)"
   ]
  },
  {
   "cell_type": "code",
   "execution_count": 5,
   "metadata": {},
   "outputs": [],
   "source": [
    "def build_cnn(input_shape, dense_neurno, output_shape):\n",
    "    input_layer = Input(input_shape)\n",
    "    conv = Conv2D(filters=64, kernel_size=(3, 3), padding='same', name='conv1')(input_layer)\n",
    "    maxpool = MaxPool2D(name='Max_pool1')(conv)\n",
    "    conv = Conv2D(filters=32, kernel_size=(3, 3), padding='same', name='conv2')(maxpool)\n",
    "    maxpool = MaxPool2D(name='Max_pool2')(conv)\n",
    "    flatten_layer = Flatten()(maxpool)\n",
    "    for ind, num in enumerate(dense_neurno):\n",
    "        if ind == 0:\n",
    "            dense_layer = Dense(num)(flatten_layer)\n",
    "            bn_layer = BatchNormalization()(dense_layer)\n",
    "            act_layer = Activation(activation='relu')(bn_layer)         \n",
    "        else:\n",
    "            dense_layer = Dense(num)(flatten_layer)\n",
    "            bn_layer = BatchNormalization()(dense_layer)\n",
    "            act_layer = Activation(activation='relu')(bn_layer)\n",
    "            \n",
    "    output = Dense(output_shape, activation='softmax')(act_layer)\n",
    "    model = Model(inputs=[input_layer], outputs=[output])\n",
    "    \n",
    "    return model"
   ]
  },
  {
   "cell_type": "code",
   "execution_count": 6,
   "metadata": {},
   "outputs": [],
   "source": [
    "## 超參數設定\n",
    "LEARNING_RATE = 1e-3\n",
    "EPOCHS = 50\n",
    "BATCH_SIZE = 256\n",
    "DENSE_NEURONS = [256, 128, 64]\n",
    "INPUT_SHAPE = x_train.shape[1:]\n",
    "OUTPUT_SHAPE = 10\n",
    "MOMENTUM = 0.95"
   ]
  },
  {
   "cell_type": "code",
   "execution_count": 10,
   "metadata": {},
   "outputs": [],
   "source": [
    "# Record_fp_tp\n",
    "class Record_tp_tn(Callback):\n",
    "    def on_train_begin(self, logs={}):\n",
    "        logs = logs or {}\n",
    "        record_metrics = ['val_tp', 'val_fp']\n",
    "        for name in record_metrics:\n",
    "            if name not in self.params['metrics']:\n",
    "                self.params['metrics'].append(name)\n",
    "        \n",
    "    def on_epoch_end(self, epoch, logs={}):\n",
    "        logs = logs or {}\n",
    "        y_true = self.validation_data[1].argmax(axis=1)\n",
    "        y_pred = self.model.predict(self.validation_data[0]).argmax(axis=1)\n",
    "        matrix = confusion_matrix(y_true, y_pred)\n",
    "        val_fp = matrix.sum(axis=0) - np.diag(matrix)\n",
    "        val_tp = np.diag(matrix)\n",
    "        logs['val_tp'] = val_tp\n",
    "        logs['val_fp'] = val_fp\n",
    "        \n",
    "rec_tptn = Record_tp_tn()"
   ]
  },
  {
   "cell_type": "code",
   "execution_count": 1,
   "metadata": {
    "scrolled": true
   },
   "outputs": [],
   "source": [
    "optimizer = SGD(lr=LEARNING_RATE, nesterov=True, momentum=MOMENTUM)\n",
    "\n",
    "model = build_cnn(INPUT_SHAPE, DENSE_NEURONS, OUTPUT_SHAPE)\n",
    "model.compile(optimizer=optimizer, loss='categorical_crossentropy', metrics=['accuracy'])\n",
    "model.fit(x_train, y_train, epochs=EPOCHS, batch_size=BATCH_SIZE,\n",
    "          validation_split=0.2, shuffle=True, callbacks=[rec_tptn])\n",
    "\n",
    "# Collect results\n",
    "train_loss = model.history.history[\"loss\"]\n",
    "valid_loss = model.history.history[\"val_loss\"]\n",
    "train_acc = model.history.history[\"acc\"]\n",
    "valid_acc = model.history.history[\"val_acc\"]\n",
    "\n",
    "\"\"\"\n",
    "To do:\n",
    "Collect tp/tn from model history\n",
    "\"\"\"\n",
    "valid_tp = model.history.history[\"val_tp\"]\n",
    "valid_fp = model.history.history[\"val_fp\"]"
   ]
  },
  {
   "cell_type": "code",
   "execution_count": null,
   "metadata": {},
   "outputs": [],
   "source": [
    "import matplotlib.pyplot as plt\n",
    "%matplotlib inline\n",
    "\n",
    "plt.plot(range(len(train_loss)), train_loss, label=\"train loss\")\n",
    "plt.plot(range(len(valid_loss)), valid_loss, label=\"valid loss\")\n",
    "plt.legend()\n",
    "plt.title(\"Loss\")\n",
    "plt.show()\n",
    "\n",
    "plt.plot(range(len(train_acc)), train_acc, label=\"train accuracy\")\n",
    "plt.plot(range(len(valid_acc)), valid_acc, label=\"valid accuracy\")\n",
    "plt.legend()\n",
    "plt.title(\"Accuracy\")\n",
    "plt.show()\n",
    "\n",
    "plt.plot(range(len(valid_tp)), valid_tp, label=\"valid tp\", color=\"navy\")\n",
    "plt.plot(range(len(valid_tn)), valid_tn, label=\"valid tn\", color=\"red\")\n",
    "plt.legend()\n",
    "plt.title(\"True positives and True Negatives\")\n",
    "plt.show()"
   ]
  }
 ],
 "metadata": {
  "kernelspec": {
   "display_name": "Python 3",
   "language": "python",
   "name": "python3"
  },
  "language_info": {
   "codemirror_mode": {
    "name": "ipython",
    "version": 3
   },
   "file_extension": ".py",
   "mimetype": "text/x-python",
   "name": "python",
   "nbconvert_exporter": "python",
   "pygments_lexer": "ipython3",
   "version": "3.6.8"
  }
 },
 "nbformat": 4,
 "nbformat_minor": 2
}
