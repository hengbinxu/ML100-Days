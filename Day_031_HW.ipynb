{
 "cells": [
  {
   "cell_type": "markdown",
   "metadata": {},
   "source": [
    "## 練習時間"
   ]
  },
  {
   "cell_type": "markdown",
   "metadata": {},
   "source": [
    "請觀看台大電機李宏毅教授的影片。李教授會用非常淺顯易懂的方式介紹甚麼是機器學習。\n"
   ]
  },
  {
   "cell_type": "code",
   "execution_count": 1,
   "metadata": {},
   "outputs": [],
   "source": [
    "from IPython.display import YouTubeVideo\n",
    "YouTubeVideo('CXgbekl66jc', width=720, height=480)"
   ]
  },
  {
   "cell_type": "markdown",
   "metadata": {},
   "source": [
    "## 請找出一個你認為機器學習可以發光發熱的領域並闡述原因? "
   ]
  },
  {
   "cell_type": "markdown",
   "metadata": {},
   "source": [
    "Answer:\n",
    " - 銀行業：\n",
    "     - 透過大量資料分析和型態認證，人工分析員無法辨識的行為都可以解析。這種能力最常見應用就是打擊金融卡和信用卡詐欺行為。\n",
    "     - 機器學習系統可訓練辨識典型的消費型態及交易特徵（如地點、數目或時間），或多或少降低詐欺可能性。當一單交易看起來不規則時就會觸發警報，隨後用戶就會收到一條相關資訊。\n",
    "\n"
   ]
  }
 ],
 "metadata": {
  "kernelspec": {
   "display_name": "Python 3",
   "language": "python",
   "name": "python3"
  },
  "language_info": {
   "codemirror_mode": {
    "name": "ipython",
    "version": 3
   },
   "file_extension": ".py",
   "mimetype": "text/x-python",
   "name": "python",
   "nbconvert_exporter": "python",
   "pygments_lexer": "ipython3",
   "version": "3.6.6"
  }
 },
 "nbformat": 4,
 "nbformat_minor": 2
}
