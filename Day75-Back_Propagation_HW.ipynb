{
 "cells": [
  {
   "cell_type": "markdown",
   "metadata": {
    "colab_type": "text",
    "id": "RKWQIzOrYh1Y"
   },
   "source": [
    "# 作業: \n",
    "3  層神經網路\n",
    "\n",
    "通過增加更多的中間層，以對更多關係的組合進行建模\n",
    "\n",
    "syn1 權值矩陣將隱層的組合輸出映射到最終結果，\n",
    "\n",
    "而在更新 syn1 的同時，還需要更新 syn0 權值矩陣，\n",
    "\n",
    "以從輸入資料中更好地產生這些組合"
   ]
  },
  {
   "cell_type": "markdown",
   "metadata": {
    "colab_type": "text",
    "id": "2qlmtNgHYh1b"
   },
   "source": [
    "# BP 演算法訓練的神經網路\n",
    "\n",
    "\n",
    "目標: 嘗試著用輸入去預測輸出\n",
    " \n",
    "考慮以上情形：\n",
    "給定三列輸入，試著去預測對應的一列輸出。\n",
    "\n",
    "我們可以通過簡單測量輸入與輸出值的資料來解決這一問題。\n",
    "\n",
    "最左邊的一列輸入值和輸出值是完美匹配/完全相關的。\n",
    "\n",
    "反向傳播演算法便是通過這種方式來衡量資料間統計關係進而得到模型的。\n"
   ]
  },
  {
   "cell_type": "markdown",
   "metadata": {
    "colab_type": "text",
    "id": "DiYzRPqsYh1c"
   },
   "source": [
    "# 更新3 Layers 所需參數定義\n",
    "\n",
    "X 輸入資料集，形式為矩陣，每 1 行代表 1 個訓練樣本。\n",
    "\n",
    "y 輸出資料集，形式為矩陣，每 1 行代表 1 個訓練樣本。\n",
    "\n",
    "l0 網路第 1 層，即網路輸入層。\n",
    "\n",
    "l1 網路第 2 層，常稱作隱藏層。\n",
    "\n",
    "l2 假定為網路最後一層，隨著訓練進行，其輸出應該逐漸接近正確結果\n",
    "\n",
    "syn0 第一層權值\n",
    "\n",
    "syn1 第二層權值\n",
    "\n",
    "l2_error 該值說明了神經網路預測時“丟失”的數目。\n",
    "\n",
    "l2_delta 該值為經確信度加權後的神經網路的誤差，除了確信誤差很小時，它近似等於預測誤差。\n",
    "\n",
    "l1_error 該值為 l2_delta 經 syn1 加權後的結果，從而能夠計算得到中間層/隱層的誤差。\n",
    "\n",
    "l1_delta 該值為經確信度加權後的神經網路 l1 層的誤差，除了確信誤差很小時，它近似等於 l1_error 。"
   ]
  },
  {
   "cell_type": "code",
   "execution_count": 1,
   "metadata": {
    "colab": {},
    "colab_type": "code",
    "collapsed": true,
    "id": "588t-eEHYh1d"
   },
   "outputs": [],
   "source": [
    "import numpy as np\n",
    " \n",
    "# Sigmoid 函數可以將任何值都映射到一個位於 0 到  1 範圍內的值。通過它，我們可以將實數轉化為概率值\n",
    "def nonlin(x,deriv=False):\n",
    "    if(deriv==True):\n",
    "        return x*(1-x)\n",
    "    return 1/(1+np.exp(-x))\n",
    "\n",
    "X = np.array([  [0,0,1],\n",
    "                [0,1,1],\n",
    "                [1,0,1],\n",
    "                [1,1,1] ])  \n",
    "        \n",
    "# define y for output dataset            \n",
    "y = np.array([[1], [0], [0], [1]])"
   ]
  },
  {
   "cell_type": "code",
   "execution_count": 2,
   "metadata": {
    "colab": {},
    "colab_type": "code",
    "collapsed": true,
    "id": "qw8SMfiZYh1l"
   },
   "outputs": [],
   "source": [
    "# seed random numbers to make calculation\n",
    "# deterministic (just a good practice)\n",
    "np.random.seed(1)\n",
    "lr = 0.01\n",
    "epochs = 1000\n",
    "l1_neural_num = 4\n",
    "\n",
    "# Initialize weights randomly with mean 0\n",
    "syn0 = 2*np.random.random((X.shape[1], l1_neural_num)) - 1\n",
    "syn1 = 2*np.random.random(size=(l1_neural_num, y.shape[1]))"
   ]
  },
  {
   "cell_type": "markdown",
   "metadata": {
    "colab_type": "text",
    "id": "1ubmvWa8Yh1o"
   },
   "source": [
    "神經網路訓練\n",
    "for 迴圈反覆運算式地多次執行訓練代碼，使得我們的網路能更好地擬合訓練集"
   ]
  },
  {
   "cell_type": "code",
   "execution_count": 3,
   "metadata": {
    "colab": {},
    "colab_type": "code",
    "collapsed": true,
    "id": "q6jQQqG0Yh1p"
   },
   "outputs": [],
   "source": [
    "error_history = np.zeros(shape=(epochs))\n",
    "for iters in range(epochs):\n",
    "    # forward propagation\n",
    "    l1_input = X.dot(syn0)\n",
    "    l1_output = nonlin(l1_input)\n",
    "    \n",
    "    outputlayer_input = l1_output.dot(syn1)\n",
    "    output_val = nonlin(outputlayer_input)\n",
    "    '''\n",
    "    新增\n",
    "    l2_error 該值說明了神經網路預測時“丟失”的數目。\n",
    "    l2_delta 該值為經確信度加權後的神經網路的誤差，除了確信誤差很小時，它近似等於預測誤差。\n",
    "    '''\n",
    "    \n",
    "    # Backward pass\n",
    "    loss = y - output_val # Define loss function = 1/2(summation(yi - y_hat)^2)\n",
    "    error = 1/2*(np.sum(y - output_val)**2)\n",
    "    error_history[iters] = error\n",
    "    \n",
    "    output_dloss_dz = loss * nonlin(output_val, deriv=True) # dy/dz * dL/dy (output layer)\n",
    "    l1_dactivate_dz = loss * nonlin(l1_output, deriv=True)  # dy/dz * dL/dy (hidden layer)\n",
    "    \n",
    "    dloss_dactivate = syn1.T.dot(output_dloss_dz) # Calculate total dloss/d(act(z)) (from output layer to hiden)\n",
    "    dloss_dz = dloss_dactivate * l1_dactivate_dz # d(act(z))/dz * dloss/d(act(z))\n",
    "    \n",
    "    # Update wight\n",
    "    syn0 -= lr * X.T.dot(dloss_dz) # dz/dw * dloss/dz\n",
    "    syn1 -= lr * l1_output.T.dot(output_dloss_dz) # dz/dw * dloss/dz\n",
    "        "
   ]
  },
  {
   "cell_type": "code",
   "execution_count": 4,
   "metadata": {},
   "outputs": [],
   "source": [
    "import matplotlib.pyplot as plt"
   ]
  },
  {
   "cell_type": "code",
   "execution_count": 5,
   "metadata": {},
   "outputs": [
    {
     "data": {
      "image/png": "[encoded data removed]",
      "text/plain": [
       "<Figure size 432x288 with 1 Axes>"
      ]
     },
     "metadata": {
      "needs_background": "light"
     },
     "output_type": "display_data"
    }
   ],
   "source": [
    "plt.plot(range(epochs), error_history)\n",
    "plt.xlabel('Number of epochs')\n",
    "plt.ylabel('Loss')\n",
    "plt.show()"
   ]
  }
 ],
 "metadata": {
  "colab": {
   "name": "Day75-Back_Propagation_HW.ipynb",
   "provenance": [],
   "version": "0.3.2"
  },
  "kernelspec": {
   "display_name": "Python 3",
   "language": "python",
   "name": "python3"
  },
  "language_info": {
   "codemirror_mode": {
    "name": "ipython",
    "version": 3
   },
   "file_extension": ".py",
   "mimetype": "text/x-python",
   "name": "python",
   "nbconvert_exporter": "python",
   "pygments_lexer": "ipython3",
   "version": "3.6.8"
  }
 },
 "nbformat": 4,
 "nbformat_minor": 2
}
