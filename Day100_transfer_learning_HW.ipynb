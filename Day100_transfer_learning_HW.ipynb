{
 "cells": [
  {
   "cell_type": "markdown",
   "metadata": {},
   "source": [
    "## 作業\n",
    "礙於不是所有同學都有 GPU ，這邊的範例使用的是簡化版本的 ResNet，確保所有同學都能夠順利訓練!\n",
    "\n",
    "\n",
    "最後一天的作業請閱讀這篇非常詳盡的[文章](https://blog.gtwang.org/programming/keras-resnet-50-pre-trained-model-build-dogs-cats-image-classification-system/)，基本上已經涵蓋了所有訓練　CNN 常用的技巧，請使用所有學過的訓練技巧，盡可能地提高 Cifar-10 的 test data 準確率，截圖你最佳的結果並上傳來完成最後一次的作業吧!\n",
    "\n",
    "另外這些技巧在 Kaggle 上也會被許多人使用，更有人會開發一些新的技巧，例如使把預訓練在 ImageNet 上的模型當成 feature extractor 後，再拿擷取出的特徵重新訓練新的模型，這些技巧再進階的課程我們會在提到，有興趣的同學也可以[參考](https://www.kaggle.com/insaff/img-feature-extraction-with-pretrained-resnet)"
   ]
  },
  {
   "cell_type": "code",
   "execution_count": 1,
   "metadata": {},
   "outputs": [
    {
     "name": "stderr",
     "output_type": "stream",
     "text": [
      "Using TensorFlow backend.\n"
     ]
    }
   ],
   "source": [
    "import keras\n",
    "import numpy as np\n",
    "from argparse import Namespace\n",
    "from keras.datasets import cifar10\n",
    "from keras.utils import to_categorical\n",
    "from resnet_builder import resnet"
   ]
  },
  {
   "cell_type": "code",
   "execution_count": 2,
   "metadata": {},
   "outputs": [],
   "source": [
    "(x_train, y_train), (x_test, y_test) = cifar10.load_data()"
   ]
  },
  {
   "cell_type": "code",
   "execution_count": 3,
   "metadata": {},
   "outputs": [
    {
     "name": "stdout",
     "output_type": "stream",
     "text": [
      "Training Size: 50000\n",
      "Test Size: 50000\n",
      "Image Size: (32, 32, 3)\n",
      "Number of Class: 10\n"
     ]
    }
   ],
   "source": [
    "training_size = len(x_train)\n",
    "testing_size = len(y_train)\n",
    "img_shape = x_train.shape[1:]\n",
    "num_class = len(np.unique(y_train))\n",
    "print('Training Size: {:d}'.format(training_size))\n",
    "print('Test Size: {:d}'.format(training_size))\n",
    "print('Image Size: {}'.format(img_shape))\n",
    "print('Number of Class: {:d}'.format(num_class))"
   ]
  },
  {
   "cell_type": "code",
   "execution_count": 4,
   "metadata": {},
   "outputs": [],
   "source": [
    "EPOCH = 5\n",
    "BATCH_SIZE = 256\n",
    "LEARNING_RATE = 1e-5\n",
    "STEP_PER_EPOCH = np.ceil(training_size/BATCH_SIZE).astype(int)"
   ]
  },
  {
   "cell_type": "code",
   "execution_count": 5,
   "metadata": {},
   "outputs": [],
   "source": [
    "def preprocess_x(x, flatten=False):\n",
    "    x = x / 255.\n",
    "    if flatten:\n",
    "        x = x.reshape(len(x), -1)\n",
    "    return x\n",
    "\n",
    "x_train = preprocess_x(x_train)\n",
    "x_test = preprocess_x(x_test)\n",
    "\n",
    "y_train = to_categorical(y_train, num_class)\n",
    "y_test = to_categorical(y_test, num_class)"
   ]
  },
  {
   "cell_type": "code",
   "execution_count": 6,
   "metadata": {},
   "outputs": [],
   "source": [
    "def data_generator(x, y, batch_size):\n",
    "    while True:\n",
    "        for ind in range(0, len(x), batch_size):\n",
    "            batch_x = x[ind: ind + batch_size, :]\n",
    "            batch_y = y[ind: ind + batch_size, :]\n",
    "            yield (batch_x, batch_y)\n",
    "\n",
    "training_generator = data_generator(x_train, y_train, BATCH_SIZE)\n",
    "testing_generator = data_generator(x_test, y_test, BATCH_SIZE)"
   ]
  },
  {
   "cell_type": "code",
   "execution_count": 7,
   "metadata": {},
   "outputs": [],
   "source": [
    "resnet = resnet(input_shape=img_shape)"
   ]
  },
  {
   "cell_type": "code",
   "execution_count": null,
   "metadata": {},
   "outputs": [
    {
     "name": "stdout",
     "output_type": "stream",
     "text": [
      "Epoch 1/5\n",
      "  4/196 [..............................] - ETA: 23:48 - loss: 2.9628 - acc: 0.1338"
     ]
    }
   ],
   "source": [
    "resnet.compile(optimizer='adam', loss='categorical_crossentropy', metrics=['accuracy'])\n",
    "\n",
    "resnet.fit_generator(training_generator, steps_per_epoch=STEP_PER_EPOCH, epochs=EPOCH)"
   ]
  },
  {
   "cell_type": "code",
   "execution_count": null,
   "metadata": {},
   "outputs": [],
   "source": [
    "resnet.evaluate_generator(testing_generator, steps=STEP_PER_EPOCH)"
   ]
  },
  {
   "cell_type": "code",
   "execution_count": null,
   "metadata": {},
   "outputs": [],
   "source": []
  },
  {
   "cell_type": "code",
   "execution_count": null,
   "metadata": {},
   "outputs": [],
   "source": []
  }
 ],
 "metadata": {
  "kernelspec": {
   "display_name": "Python 3",
   "language": "python",
   "name": "python3"
  },
  "language_info": {
   "codemirror_mode": {
    "name": "ipython",
    "version": 3
   },
   "file_extension": ".py",
   "mimetype": "text/x-python",
   "name": "python",
   "nbconvert_exporter": "python",
   "pygments_lexer": "ipython3",
   "version": "3.6.8"
  }
 },
 "nbformat": 4,
 "nbformat_minor": 2
}
