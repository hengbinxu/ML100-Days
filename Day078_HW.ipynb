{
 "cells": [
  {
   "cell_type": "markdown",
   "metadata": {},
   "source": [
    "## Work\n",
    "1. 請嘗試將 preproc_x 替換成以每筆資料的 min/max 進行標準化至 -1 ~ 1 間，再進行訓練\n",
    "2. 請嘗試將 mlp 疊更深 (e.g 5~10 層)，進行訓練後觀察 learning curve 的走勢\n",
    "3. (optional) 請改用 GPU 進行訓練 (如果你有 GPU 的話)，比較使用 CPU 與 GPU 的訓練速度"
   ]
  },
  {
   "cell_type": "code",
   "execution_count": 1,
   "metadata": {},
   "outputs": [
    {
     "name": "stdout",
     "output_type": "stream",
     "text": [
      "/bin/sh: nvidia-sim: command not found\n"
     ]
    }
   ],
   "source": [
    "## 確認硬體資源\n",
    "\"\"\"\n",
    "Your code here\n",
    "\"\"\"\n",
    "!nvidia-sim"
   ]
  },
  {
   "cell_type": "code",
   "execution_count": 1,
   "metadata": {},
   "outputs": [
    {
     "name": "stderr",
     "output_type": "stream",
     "text": [
      "Using TensorFlow backend.\n"
     ]
    }
   ],
   "source": [
    "import os\n",
    "from keras.datasets import cifar10\n",
    "from keras.models import Model\n",
    "from keras.layers import Conv2D, MaxPool2D, Flatten, Dense, Input, Dropout\n",
    "from keras.utils import to_categorical\n",
    "from keras.optimizers import Adam\n",
    "\n",
    "# Try to enable GPU (optional)\n"
   ]
  },
  {
   "cell_type": "code",
   "execution_count": 2,
   "metadata": {},
   "outputs": [],
   "source": [
    "train, test = cifar10.load_data()"
   ]
  },
  {
   "cell_type": "code",
   "execution_count": 3,
   "metadata": {},
   "outputs": [],
   "source": [
    "## 資料前處理\n",
    "\"\"\"\n",
    "Your code here\n",
    "\"\"\"\n",
    "def preproc_x(x, flatten=False):\n",
    "    x = x / 255.\n",
    "    if flatten == True:\n",
    "        x = x.reshape((len(x), -1))\n",
    "    return x\n",
    "\n",
    "def preproc_y(y):\n",
    "    y = to_categorical(y, num_classes=10)\n",
    "    return y"
   ]
  },
  {
   "cell_type": "code",
   "execution_count": 4,
   "metadata": {},
   "outputs": [],
   "source": [
    "x_train, y_train = train\n",
    "x_test, y_test = test\n",
    "\n",
    "img_shape = x_train.shape[1:]\n",
    "\n",
    "# Preproc the inputs\n",
    "x_train = preproc_x(x_train)\n",
    "x_test = preproc_x(x_test)\n",
    "\n",
    "# Preprc the outputs\n",
    "y_train = preproc_y(y_train)\n",
    "y_test = preproc_y(y_test)"
   ]
  },
  {
   "cell_type": "code",
   "execution_count": 5,
   "metadata": {},
   "outputs": [
    {
     "name": "stdout",
     "output_type": "stream",
     "text": [
      "_________________________________________________________________\n",
      "Layer (type)                 Output Shape              Param #   \n",
      "=================================================================\n",
      "input_1 (InputLayer)         (None, 32, 32, 3)         0         \n",
      "_________________________________________________________________\n",
      "conv2d_1 (Conv2D)            (None, 32, 32, 32)        896       \n",
      "_________________________________________________________________\n",
      "max_pooling2d_1 (MaxPooling2 (None, 16, 16, 32)        0         \n",
      "_________________________________________________________________\n",
      "conv2d_2 (Conv2D)            (None, 16, 16, 32)        9248      \n",
      "_________________________________________________________________\n",
      "max_pooling2d_2 (MaxPooling2 (None, 8, 8, 32)          0         \n",
      "_________________________________________________________________\n",
      "flatten_1 (Flatten)          (None, 2048)              0         \n",
      "_________________________________________________________________\n",
      "dense_1 (Dense)              (None, 512)               1049088   \n",
      "_________________________________________________________________\n",
      "dense_2 (Dense)              (None, 256)               131328    \n",
      "_________________________________________________________________\n",
      "dense_3 (Dense)              (None, 10)                2570      \n",
      "=================================================================\n",
      "Total params: 1,193,130\n",
      "Trainable params: 1,193,130\n",
      "Non-trainable params: 0\n",
      "_________________________________________________________________\n"
     ]
    }
   ],
   "source": [
    "\"\"\"\n",
    "Your code here\n",
    "\"\"\"\n",
    "def build_cnn(x_shape):\n",
    "    input_layer = Input(shape=(x_shape))\n",
    "    \n",
    "    con_layer = Conv2D(filters=32, kernel_size=(3, 3), padding='same')(input_layer)\n",
    "    maxpool_layer = MaxPool2D()(con_layer)\n",
    "    \n",
    "    con_layer = Conv2D(filters=32, kernel_size=(3, 3), padding='same')(maxpool_layer)\n",
    "    maxpool_layer = MaxPool2D()(con_layer)\n",
    "    flatten_layer = Flatten()(maxpool_layer)\n",
    "    \n",
    "    fully_conn_layer = Dense(512, activation='relu')(flatten_layer)\n",
    "    fully_conn_layer = Dense(256, activation='relu')(fully_conn_layer)\n",
    "    output = Dense(10, activation='softmax')(fully_conn_layer)\n",
    "    \n",
    "    model = Model(inputs=[input_layer], outputs=[output])\n",
    "    \n",
    "    return model\n",
    "    \n",
    "model = build_cnn(img_shape)\n",
    "model.summary()"
   ]
  },
  {
   "cell_type": "code",
   "execution_count": 6,
   "metadata": {},
   "outputs": [],
   "source": [
    "## 超參數設定\n",
    "LEARNING_RATE = 0.001\n",
    "EPOCHS = 10\n",
    "BATCH_SIZE = 256"
   ]
  },
  {
   "cell_type": "code",
   "execution_count": 7,
   "metadata": {},
   "outputs": [],
   "source": [
    "optimizer = Adam(lr=LEARNING_RATE)\n",
    "model.compile(loss=\"categorical_crossentropy\", metrics=[\"accuracy\"], optimizer=optimizer)"
   ]
  },
  {
   "cell_type": "code",
   "execution_count": 8,
   "metadata": {},
   "outputs": [
    {
     "name": "stdout",
     "output_type": "stream",
     "text": [
      "Train on 50000 samples, validate on 10000 samples\n",
      "Epoch 1/10\n",
      "50000/50000 [==============================] - 36s 718us/step - loss: 1.5188 - acc: 0.4559 - val_loss: 1.2063 - val_acc: 0.5686\n",
      "Epoch 2/10\n",
      "50000/50000 [==============================] - 36s 711us/step - loss: 1.1177 - acc: 0.6057 - val_loss: 1.0849 - val_acc: 0.6263\n",
      "Epoch 3/10\n",
      "50000/50000 [==============================] - 35s 694us/step - loss: 0.9242 - acc: 0.6751 - val_loss: 0.9483 - val_acc: 0.6659\n",
      "Epoch 4/10\n",
      "50000/50000 [==============================] - 35s 702us/step - loss: 0.7807 - acc: 0.7271 - val_loss: 0.9585 - val_acc: 0.6723\n",
      "Epoch 5/10\n",
      "50000/50000 [==============================] - 34s 678us/step - loss: 0.6508 - acc: 0.7741 - val_loss: 0.8952 - val_acc: 0.6922\n",
      "Epoch 6/10\n",
      "50000/50000 [==============================] - 34s 676us/step - loss: 0.5198 - acc: 0.8207 - val_loss: 0.9421 - val_acc: 0.6952\n",
      "Epoch 7/10\n",
      "50000/50000 [==============================] - 33s 654us/step - loss: 0.4031 - acc: 0.8631 - val_loss: 1.0458 - val_acc: 0.6882\n",
      "Epoch 8/10\n",
      "50000/50000 [==============================] - 33s 651us/step - loss: 0.2863 - acc: 0.9035 - val_loss: 1.0664 - val_acc: 0.7057\n",
      "Epoch 9/10\n",
      "50000/50000 [==============================] - 33s 654us/step - loss: 0.1958 - acc: 0.9350 - val_loss: 1.2404 - val_acc: 0.6980\n",
      "Epoch 10/10\n",
      "50000/50000 [==============================] - 33s 652us/step - loss: 0.1298 - acc: 0.9583 - val_loss: 1.3587 - val_acc: 0.6931\n"
     ]
    }
   ],
   "source": [
    "history = model.fit(x_train, y_train, \n",
    "                      epochs=EPOCHS, \n",
    "                      batch_size=BATCH_SIZE, \n",
    "                      validation_data=(x_test, y_test), \n",
    "                      shuffle=True)"
   ]
  },
  {
   "cell_type": "code",
   "execution_count": 12,
   "metadata": {},
   "outputs": [
    {
     "data": {
      "image/png": "[encoded data removed]",
      "text/plain": [
       "<Figure size 432x288 with 1 Axes>"
      ]
     },
     "metadata": {
      "needs_background": "light"
     },
     "output_type": "display_data"
    },
    {
     "data": {
      "image/png": "[encoded data removed]",
      "text/plain": [
       "<Figure size 432x288 with 1 Axes>"
      ]
     },
     "metadata": {
      "needs_background": "light"
     },
     "output_type": "display_data"
    }
   ],
   "source": [
    "import matplotlib.pyplot as plt\n",
    "%matplotlib inline\n",
    "\n",
    "train_loss = model.history.history[\"loss\"]\n",
    "valid_loss = model.history.history[\"val_loss\"]\n",
    "\n",
    "train_acc = model.history.history[\"acc\"]\n",
    "valid_acc = model.history.history[\"val_acc\"]\n",
    "\n",
    "plt.plot(range(len(train_loss)), train_loss, label=\"train loss\")\n",
    "plt.plot(range(len(valid_loss)), valid_loss, label=\"valid loss\")\n",
    "plt.legend()\n",
    "plt.title(\"Loss\")\n",
    "plt.show()\n",
    "\n",
    "plt.plot(range(len(train_acc)), train_acc, label=\"train accuracy\")\n",
    "plt.plot(range(len(valid_acc)), valid_acc, label=\"valid accuracy\")\n",
    "plt.legend()\n",
    "plt.title(\"Accuracy\")\n",
    "plt.show()"
   ]
  },
  {
   "cell_type": "code",
   "execution_count": null,
   "metadata": {},
   "outputs": [],
   "source": []
  }
 ],
 "metadata": {
  "kernelspec": {
   "display_name": "Python 3",
   "language": "python",
   "name": "python3"
  },
  "language_info": {
   "codemirror_mode": {
    "name": "ipython",
    "version": 3
   },
   "file_extension": ".py",
   "mimetype": "text/x-python",
   "name": "python",
   "nbconvert_exporter": "python",
   "pygments_lexer": "ipython3",
   "version": "3.6.8"
  }
 },
 "nbformat": 4,
 "nbformat_minor": 2
}
