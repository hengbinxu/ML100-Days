{
 "cells": [
  {
   "cell_type": "code",
   "execution_count": 1,
   "metadata": {
    "collapsed": true
   },
   "outputs": [],
   "source": [
    "#import required libraries \n",
    "#import OpenCV library\n",
    "import cv2\n",
    "#import matplotlib library\n",
    "import matplotlib.pyplot as plt\n",
    "%matplotlib inline"
   ]
  },
  {
   "cell_type": "code",
   "execution_count": 2,
   "metadata": {
    "collapsed": true
   },
   "outputs": [],
   "source": [
    "# cv2.cvtColor is an OpenCV function to convert images to different color spaces\n",
    "def convertToRGB(img): \n",
    "    return cv2.cvtColor(img, cv2.COLOR_BGR2RGB)"
   ]
  },
  {
   "cell_type": "code",
   "execution_count": 3,
   "metadata": {
    "collapsed": true
   },
   "outputs": [],
   "source": [
    "def detect_faces(f_cascade, colored_img, scaleFactor = 1.1):\n",
    " #just making a copy of image passed, so that passed image is not changed \n",
    " img_copy = colored_img.copy()          \n",
    " \n",
    " #convert the test image to gray image as opencv face detector expects gray images\n",
    " gray = cv2.cvtColor(img_copy, cv2.COLOR_BGR2GRAY)          \n",
    " \n",
    " #let's detect multiscale (some images may be closer to camera than others) images\n",
    " faces = f_cascade.detectMultiScale(gray, scaleFactor=scaleFactor, minNeighbors=5);          \n",
    " \n",
    " #go over list of faces and draw them as rectangles on original colored img\n",
    " for (x, y, w, h) in faces:\n",
    "      cv2.rectangle(img_copy, (x, y), (x+w, y+h), (0, 255, 0), 2)              \n",
    " \n",
    " return img_copy"
   ]
  },
  {
   "cell_type": "markdown",
   "metadata": {},
   "source": [
    "# 作業: \n",
    "1. 使用faces = haar_face_cascade.detectMultiScale(gray_img, scaleFactor=1.1, minNeighbors=5); \n",
    "修改 scaleFactor, minNeighbor兩個參數計算 test5.jpg 有幾張臉\n",
    "\n",
    "2. load cascade classifier training file for haarcascade \n",
    "3. load cascade classifier training file for lbpcascade \n"
   ]
  },
  {
   "cell_type": "code",
   "execution_count": null,
   "metadata": {
    "collapsed": true
   },
   "outputs": [],
   "source": []
  }
 ],
 "metadata": {
  "kernelspec": {
   "display_name": "Python 3",
   "language": "python",
   "name": "python3"
  },
  "language_info": {
   "codemirror_mode": {
    "name": "ipython",
    "version": 3
   },
   "file_extension": ".py",
   "mimetype": "text/x-python",
   "name": "python",
   "nbconvert_exporter": "python",
   "pygments_lexer": "ipython3",
   "version": "3.7.0"
  }
 },
 "nbformat": 4,
 "nbformat_minor": 2
}
