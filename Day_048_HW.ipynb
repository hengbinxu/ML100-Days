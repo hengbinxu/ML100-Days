{
 "cells": [
  {
   "cell_type": "markdown",
   "metadata": {},
   "source": [
    "### Homework\n",
    " - Finish scikit-learn practice competitions."
   ]
  },
  {
   "cell_type": "code",
   "execution_count": 1,
   "metadata": {},
   "outputs": [],
   "source": [
    "import os\n",
    "import re\n",
    "import numpy as np\n",
    "import pandas as pd\n",
    "from sklearn.model_selection import train_test_split\n",
    "from sklearn.preprocessing import StandardScaler\n",
    "from sklearn.ensemble import RandomForestClassifier\n",
    "from sklearn.ensemble import GradientBoostingClassifier\n",
    "from sklearn.model_selection import RandomizedSearchCV"
   ]
  },
  {
   "cell_type": "code",
   "execution_count": 2,
   "metadata": {},
   "outputs": [
    {
     "name": "stdout",
     "output_type": "stream",
     "text": [
      "['data/data2/scikit-learn-practice/test.csv', 'data/data2/scikit-learn-practice/submission.csv', 'data/data2/scikit-learn-practice/trainLabels.csv', 'data/data2/scikit-learn-practice/train.csv']\n"
     ]
    }
   ],
   "source": [
    "folder_path = 'data/data2/scikit-learn-practice/'\n",
    "ignore_file_pat = re.compile('(^\\.[\\w]+)')\n",
    "file_names = os.listdir(folder_path)\n",
    "file_names = list(filter(lambda x: ignore_file_pat.match(x) is None, file_names))\n",
    "file_path = list(map(lambda x: os.path.join(folder_path, x), file_names))\n",
    "\n",
    "print(file_path)"
   ]
  },
  {
   "cell_type": "code",
   "execution_count": 3,
   "metadata": {},
   "outputs": [
    {
     "name": "stdout",
     "output_type": "stream",
     "text": [
      "training data shape: (1000, 40)\n",
      "testing data shape: (9000, 40)\n"
     ]
    }
   ],
   "source": [
    "x_train = pd.read_csv(file_path[3], header=None)\n",
    "y_train = pd.read_csv(file_path[2], header=None)\n",
    "x_test = pd.read_csv(file_path[0], header=None)\n",
    "\n",
    "std_scaler = StandardScaler()\n",
    "std_scaler.fit(x_train)\n",
    "std_x_train = std_scaler.transform(x_train)\n",
    "std_x_test = std_scaler.transform(x_test)\n",
    "\n",
    "print('training data shape: {}'.format(x_train.shape))\n",
    "print('testing data shape: {}'.format(x_test.shape))"
   ]
  },
  {
   "cell_type": "code",
   "execution_count": 4,
   "metadata": {},
   "outputs": [],
   "source": [
    "# Hyperparameter \n",
    "param_grid = {\n",
    "    'n_estimators': np.linspace(400, 800, num=10).astype(np.int),\n",
    "    'loss': ['deviance', 'exponential'],\n",
    "    'learning_rate': np.linspace(0.1, 0.25, num=9),\n",
    "    'min_samples_split': np.linspace(5, 20, num=16).astype(np.int),\n",
    "    'max_depth': np.linspace(3, 10, 8).astype(np.int),\n",
    "    'tol': np.linspace(0.0001, 0.001, num=10), \n",
    "    'max_features': ['auto', 'sqrt', 'log2']\n",
    "}\n",
    "\n",
    "gbm_clf = GradientBoostingClassifier()\n",
    "RandSearch_gbm_clf = RandomizedSearchCV(estimator=gbm_clf,\n",
    "                                        param_distributions=param_grid, cv=5)\n",
    "\n",
    "result = RandSearch_gbm_clf.fit(std_x_train, y_train.values.ravel())"
   ]
  },
  {
   "cell_type": "code",
   "execution_count": 5,
   "metadata": {},
   "outputs": [
    {
     "name": "stdout",
     "output_type": "stream",
     "text": [
      "Beat Parameters: {'tol': 0.00039999999999999996, 'n_estimators': 444, 'min_samples_split': 8, 'max_features': 'log2', 'max_depth': 8, 'loss': 'exponential', 'learning_rate': 0.11875000000000001}\n",
      "Best score: 88.50 %\n"
     ]
    }
   ],
   "source": [
    "print('Beat Parameters: {}\\nBest score: {:.2f} %'.format(result.best_params_, result.best_score_*100))"
   ]
  },
  {
   "cell_type": "code",
   "execution_count": 6,
   "metadata": {},
   "outputs": [],
   "source": [
    "y_pred = RandSearch_gbm_clf.predict(x_test)"
   ]
  },
  {
   "cell_type": "code",
   "execution_count": 7,
   "metadata": {},
   "outputs": [],
   "source": [
    "output_filen_name = 'submission.csv'\n",
    "output_file_path = os.path.join(folder_path, output_filen_name)\n",
    "\n",
    "pd.DataFrame({'Id': list(range(1, x_test.shape[0] + 1)), 'Solution': y_pred}).to_csv(output_file_path, index=False)"
   ]
  },
  {
   "cell_type": "code",
   "execution_count": 76,
   "metadata": {},
   "outputs": [],
   "source": []
  }
 ],
 "metadata": {
  "kernelspec": {
   "display_name": "Python 3",
   "language": "python",
   "name": "python3"
  },
  "language_info": {
   "codemirror_mode": {
    "name": "ipython",
    "version": 3
   },
   "file_extension": ".py",
   "mimetype": "text/x-python",
   "name": "python",
   "nbconvert_exporter": "python",
   "pygments_lexer": "ipython3",
   "version": "3.6.6"
  }
 },
 "nbformat": 4,
 "nbformat_minor": 2
}
