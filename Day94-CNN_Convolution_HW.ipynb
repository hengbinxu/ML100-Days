{
 "cells": [
  {
   "cell_type": "markdown",
   "metadata": {},
   "source": [
    "# 教學目標:\n",
    "    了解 Convolution 卷積的組成"
   ]
  },
  {
   "cell_type": "markdown",
   "metadata": {},
   "source": [
    "# 範例內容:\n",
    "    定義單步的卷積\n",
    "    \n",
    "    輸出卷積的計算值\n"
   ]
  },
  {
   "cell_type": "markdown",
   "metadata": {},
   "source": [
    "# 作業:\n",
    "    修改 a_slice_prev, 檢查 Z 的輸出"
   ]
  },
  {
   "cell_type": "code",
   "execution_count": 1,
   "metadata": {},
   "outputs": [],
   "source": [
    "import numpy as np"
   ]
  },
  {
   "cell_type": "code",
   "execution_count": 2,
   "metadata": {},
   "outputs": [],
   "source": [
    "# GRADED FUNCTION: conv_single_step\n",
    "def conv_single_step(a_slice_prev, W, b):\n",
    "    \"\"\"\n",
    "    定義一層 Kernel (內核), 使用的參數說明如下\n",
    "    Arguments:\n",
    "        a_slice_prev -- 輸入資料的維度\n",
    "        W -- 權重, 被使用在 a_slice_prev\n",
    "        b -- 偏差參數 \n",
    "    Returns:\n",
    "        Z -- 滑動窗口（W，b）卷積在前一個 feature map 上的結果\n",
    "    \"\"\"\n",
    "\n",
    "    # 定義一個元素介於 a_slice and W\n",
    "    s = a_slice_prev * W\n",
    "    # 加總所有的 \"s\" 並指定給Z.\n",
    "    Z = np.sum(s)\n",
    "    # Add bias b to Z. 這是 float() 函數,\n",
    "    Z = float(Z + b)\n",
    "\n",
    "    return Z"
   ]
  },
  {
   "cell_type": "code",
   "execution_count": 3,
   "metadata": {},
   "outputs": [
    {
     "name": "stdout",
     "output_type": "stream",
     "text": [
      "Z = -8.148112326587192\n"
     ]
    }
   ],
   "source": [
    "np.random.seed(1)\n",
    "#定義一個 axaxd 的 feature map\n",
    "a_slice_prev = np.random.randn(4, 3, 3)\n",
    "W = np.random.randn(4, 3, 3)\n",
    "b = np.random.randn(1, 1, 1)\n",
    "\n",
    "#取得計算後,卷積矩陣的值\n",
    "Z = conv_single_step(a_slice_prev, W, b)\n",
    "print(\"Z =\", Z)"
   ]
  },
  {
   "cell_type": "code",
   "execution_count": 4,
   "metadata": {},
   "outputs": [],
   "source": [
    "def convolution_output_size(img_size, filter_size, padding_size=0, stride=1):\n",
    "    img_height, img_width = img_size[0], img_size[1]\n",
    "    filter_height, filter_width = filter_size[0], filter_size[1]\n",
    "    output_height = (img_height - filter_height + 2 * padding_size)/stride + 1\n",
    "    output_width = (img_width - filter_width + 2 * padding_size)/stride + 1\n",
    "    if output_height % 1 != 0 or output_width % 1 != 0:\n",
    "        raise ValueError(\"img_size can't divisable filter_size.\")\n",
    "    return (int(output_height), int(output_width))"
   ]
  },
  {
   "cell_type": "code",
   "execution_count": 6,
   "metadata": {},
   "outputs": [
    {
     "data": {
      "text/plain": [
       "(3, 3)"
      ]
     },
     "execution_count": 6,
     "metadata": {},
     "output_type": "execute_result"
    }
   ],
   "source": [
    "convolution_output_size(img_size=(5, 5), filter_size=(3, 3), padding_size=1, stride=2)"
   ]
  },
  {
   "cell_type": "code",
   "execution_count": 7,
   "metadata": {},
   "outputs": [],
   "source": [
    "img_data = np.random.randint(0, 2, (5, 5)) # Ignore number of channels \n",
    "\n",
    "def conv_layer(img_data, filter_size, padding_size=0, stride=1):\n",
    "    img_size = img_data.shape # Get img_data shape\n",
    "    filter_height, filter_width = filter_size\n",
    "    output_size = convolution_output_size(img_size, filter_size, padding_size, stride) # Calculate otuput shape\n",
    "    vertical_step, horizontal_step = output_size # row, columns\n",
    "    filter_ = np.ones(filter_size) # Build filter matrix\n",
    "    \n",
    "    if padding_size != 0:\n",
    "        img_data = np.pad(array=img_data, pad_width=padding_size,\n",
    "                          mode='constant', constant_values=0)\n",
    "    \n",
    "    filter_matrix = np.zeros(output_size) # initialize convolution result matrix\n",
    "    for v_step in range(vertical_step): \n",
    "        for h_step in range(horizontal_step):\n",
    "            # Select matrix to element-wise product with filter_matrix\n",
    "            part_img_dat = img_data[v_step:v_step + filter_height, h_step:h_step + filter_width]\n",
    "            conv_result = part_img_dat * filter_\n",
    "            filter_matrix[v_step, h_step] = np.sum(conv_result)\n",
    "            \n",
    "    return filter_matrix     "
   ]
  },
  {
   "cell_type": "code",
   "execution_count": 98,
   "metadata": {},
   "outputs": [
    {
     "data": {
      "text/plain": [
       "array([[3., 4., 3.],\n",
       "       [4., 6., 6.],\n",
       "       [3., 4., 6.]])"
      ]
     },
     "execution_count": 98,
     "metadata": {},
     "output_type": "execute_result"
    }
   ],
   "source": [
    "conv_layer(img_data, filter_size=(3, 3), padding_size=1, stride=2)"
   ]
  },
  {
   "cell_type": "code",
   "execution_count": null,
   "metadata": {},
   "outputs": [],
   "source": []
  }
 ],
 "metadata": {
  "kernelspec": {
   "display_name": "Python 3",
   "language": "python",
   "name": "python3"
  },
  "language_info": {
   "codemirror_mode": {
    "name": "ipython",
    "version": 3
   },
   "file_extension": ".py",
   "mimetype": "text/x-python",
   "name": "python",
   "nbconvert_exporter": "python",
   "pygments_lexer": "ipython3",
   "version": "3.6.8"
  }
 },
 "nbformat": 4,
 "nbformat_minor": 2
}
